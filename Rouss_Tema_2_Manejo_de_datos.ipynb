{
  "cells": [
    {
      "cell_type": "markdown",
      "metadata": {
        "id": "view-in-github",
        "colab_type": "text"
      },
      "source": [
        "<a href=\"https://colab.research.google.com/github/rosmapeb/Data-Visualization/blob/master/Rouss_Tema_2_Manejo_de_datos.ipynb\" target=\"_parent\"><img src=\"https://colab.research.google.com/assets/colab-badge.svg\" alt=\"Open In Colab\"/></a>"
      ]
    },
    {
      "cell_type": "markdown",
      "metadata": {
        "id": "b_FWfO4VyI5J"
      },
      "source": [
        "# 2. Manejo de datos\n",
        "\n",
        "* 2.1   Preparación y limpieza de datos provenientes de fuentes y archivos externos o internos\n",
        "* 2.2   Estructuras de datos\n",
        "* 2.3   Acceso, lectura y recuperación de datos \n",
        "* 2.4   Modificación de datos\n",
        "\n",
        "--\n",
        "\n",
        "IMPORTANTE. Para hacer los ejercicios cada estudiante debe hacer su propia copia del notebook"
      ]
    },
    {
      "cell_type": "markdown",
      "metadata": {
        "id": "ofLDU9dqzNLz"
      },
      "source": [
        "# 2.1 Preparación y limpieza de datos provenientes de fuentes y archivos externos o internos"
      ]
    },
    {
      "cell_type": "code",
      "execution_count": 1,
      "metadata": {
        "id": "bkiIOIE5zS02"
      },
      "outputs": [],
      "source": [
        "# montaje de unidades en la nube\n",
        "from google.colab import drive\n",
        "import re"
      ]
    },
    {
      "cell_type": "code",
      "execution_count": 2,
      "metadata": {
        "colab": {
          "base_uri": "https://localhost:8080/"
        },
        "id": "8m9MKAHvJXSv",
        "outputId": "a9b0e2d9-8634-4456-e1a6-5f6ec25dd92f"
      },
      "outputs": [
        {
          "output_type": "stream",
          "name": "stdout",
          "text": [
            "Mounted at /content/drive/\n",
            "/content/drive/Shareddrives/Prog-sept2022-geo\n"
          ]
        }
      ],
      "source": [
        "# montar drive\n",
        "drive.mount('/content/drive/')\n",
        "%cd '/content/drive/Shareddrives/Prog-sept2022-geo'"
      ]
    },
    {
      "cell_type": "code",
      "execution_count": 3,
      "metadata": {
        "id": "sVU-dptXJ77N"
      },
      "outputs": [],
      "source": [
        "with open('2. Manejo de datos/data/html_test.html') as f:\n",
        "    content = f.read()"
      ]
    },
    {
      "cell_type": "code",
      "execution_count": 4,
      "metadata": {
        "colab": {
          "base_uri": "https://localhost:8080/"
        },
        "id": "ytGF_tGuK8LK",
        "outputId": "c70fbc6c-88a3-4932-b8ea-6dde61de7815"
      },
      "outputs": [
        {
          "output_type": "stream",
          "name": "stdout",
          "text": [
            "<body>\n",
            "<center>\n",
            "<h1> Programación </h1>\n",
            "</center>\n",
            "<p> La programación es el proceso de crear un conjunto de instrucciones que le dicen a una computadora como realizar algún tipo de tarea. </p>\n",
            "<p>Algunos lenguajes de programación:</p> \n",
            "<ol>\n",
            "<li> <a href=\"https://www.python.org/\">Python</a> </li>\n",
            "<li> <a href=\"https://www.java.com/es/\">Java</a> </li>\n",
            "<li> <a href=\"https://go.dev/\">GO</a> </li>\n",
            "<li> <a href=\"https://julialang.org/\">Julia</a> </li>\n",
            "</ol>\n",
            "</body>\n"
          ]
        }
      ],
      "source": [
        "print(content)"
      ]
    },
    {
      "cell_type": "code",
      "execution_count": 5,
      "metadata": {
        "colab": {
          "base_uri": "https://localhost:8080/"
        },
        "id": "TiwE1N_vL261",
        "outputId": "239c04dc-ac44-4009-d341-98be8e2a75e4"
      },
      "outputs": [
        {
          "output_type": "stream",
          "name": "stdout",
          "text": [
            "<_io.TextIOWrapper name='2. Manejo de datos/data/html_test.html' mode='r' encoding='UTF-8'>\n"
          ]
        }
      ],
      "source": [
        "print(f)"
      ]
    },
    {
      "cell_type": "code",
      "execution_count": 6,
      "metadata": {
        "colab": {
          "base_uri": "https://localhost:8080/"
        },
        "id": "lsFVTPViLZjB",
        "outputId": "30d19271-b9a0-4c44-ab1b-db51c8106afa"
      },
      "outputs": [
        {
          "output_type": "stream",
          "name": "stdout",
          "text": [
            "<body>\n",
            "<center>\n",
            "<h1> Programación </h1>\n",
            "</center>\n",
            "<p> La programación es el proceso de crear un conjunto de instrucciones que le dicen a una computadora como realizar algún tipo de tarea. </p>\n",
            "<p>Algunos lenguajes de programación:</p> \n",
            "<ol>\n",
            "<li> <a href=\"https://www.python.org/\">Python</a> </li>\n",
            "<li> <a href=\"https://www.java.com/es/\">Java</a> </li>\n",
            "<li> <a href=\"https://go.dev/\">GO</a> </li>\n",
            "<li> <a href=\"https://julialang.org/\">Julia</a> </li>\n",
            "</ol>\n",
            "</body>\n"
          ]
        }
      ],
      "source": [
        "f = open('2. Manejo de datos/data/html_test.html', 'r')\n",
        "content = f.read()\n",
        "print(content)\n",
        "f.close()"
      ]
    },
    {
      "cell_type": "code",
      "execution_count": 7,
      "metadata": {
        "id": "cvbdGUGLMDVO"
      },
      "outputs": [],
      "source": [
        "with open('2. Manejo de datos/data/html_test.html') as f:\n",
        "    lines = f.readlines()"
      ]
    },
    {
      "cell_type": "code",
      "execution_count": 8,
      "metadata": {
        "colab": {
          "base_uri": "https://localhost:8080/"
        },
        "id": "By4MKQIUMMTF",
        "outputId": "e3499b54-7073-4da1-e179-22c1623b5007"
      },
      "outputs": [
        {
          "output_type": "stream",
          "name": "stdout",
          "text": [
            "['<body>\\n', '<center>\\n', '<h1> Programación </h1>\\n', '</center>\\n', '<p> La programación es el proceso de crear un conjunto de instrucciones que le dicen a una computadora como realizar algún tipo de tarea. </p>\\n', '<p>Algunos lenguajes de programación:</p> \\n', '<ol>\\n', '<li> <a href=\"https://www.python.org/\">Python</a> </li>\\n', '<li> <a href=\"https://www.java.com/es/\">Java</a> </li>\\n', '<li> <a href=\"https://go.dev/\">GO</a> </li>\\n', '<li> <a href=\"https://julialang.org/\">Julia</a> </li>\\n', '</ol>\\n', '</body>']\n",
            "<class 'list'>\n",
            "<body>\n",
            "\n"
          ]
        }
      ],
      "source": [
        "print(lines)\n",
        "print(type(lines))\n",
        "print(lines[0])"
      ]
    },
    {
      "cell_type": "code",
      "execution_count": 9,
      "metadata": {
        "colab": {
          "base_uri": "https://localhost:8080/"
        },
        "id": "Cwil0lfkMRgE",
        "outputId": "68becfdb-2cc5-4f77-d7a2-3c04f3793d94"
      },
      "outputs": [
        {
          "output_type": "stream",
          "name": "stdout",
          "text": [
            "0 : <body>\n",
            "1 : <center>\n",
            "2 : <h1> Programación </h1>\n",
            "3 : </center>\n",
            "4 : <p> La programación es el proceso de crear un conjunto de instrucciones que le dicen a una computadora como realizar algún tipo de tarea. </p>\n",
            "5 : <p>Algunos lenguajes de programación:</p> \n",
            "6 : <ol>\n",
            "7 : <li> <a href=\"https://www.python.org/\">Python</a> </li>\n",
            "8 : <li> <a href=\"https://www.java.com/es/\">Java</a> </li>\n",
            "9 : <li> <a href=\"https://go.dev/\">GO</a> </li>\n",
            "10 : <li> <a href=\"https://julialang.org/\">Julia</a> </li>\n",
            "11 : </ol>\n",
            "12 : </body>\n"
          ]
        }
      ],
      "source": [
        "for (i,line) in enumerate(lines):\n",
        "    print(i,':', line.strip('\\n'))"
      ]
    },
    {
      "cell_type": "code",
      "execution_count": 10,
      "metadata": {
        "id": "Us67xHVsNGgO"
      },
      "outputs": [],
      "source": [
        "with open('2. Manejo de datos/data/numbered_html_test.html', 'w') as g:\n",
        "    lines_to_write=[]\n",
        "    for (i,line) in enumerate(lines):\n",
        "        l = '{}:{}'.format(i,line)\n",
        "        lines_to_write.append(l)\n",
        "    g.writelines(lines_to_write)"
      ]
    },
    {
      "cell_type": "code",
      "execution_count": 11,
      "metadata": {
        "colab": {
          "base_uri": "https://localhost:8080/",
          "height": 70
        },
        "id": "ldtzQ4FYTJBp",
        "outputId": "559358bf-c7ea-44ad-e737-26535ec1bdf0"
      },
      "outputs": [
        {
          "output_type": "execute_result",
          "data": {
            "text/plain": [
              "'<body>\\n<center>\\n<h1> Programación </h1>\\n</center>\\n<p> La programación es el proceso de crear un conjunto de instrucciones que le dicen a una computadora como realizar algún tipo de tarea. </p>\\n<p>Algunos lenguajes de programación:</p> \\n<ol>\\n<li> <a href=\"https://www.python.org/\">Python</a> </li>\\n<li> <a href=\"https://www.java.com/es/\">Java</a> </li>\\n<li> <a href=\"https://go.dev/\">GO</a> </li>\\n<li> <a href=\"https://julialang.org/\">Julia</a> </li>\\n</ol>\\n</body>'"
            ],
            "application/vnd.google.colaboratory.intrinsic+json": {
              "type": "string"
            }
          },
          "metadata": {},
          "execution_count": 11
        }
      ],
      "source": [
        "content"
      ]
    },
    {
      "cell_type": "code",
      "execution_count": 12,
      "metadata": {
        "colab": {
          "base_uri": "https://localhost:8080/"
        },
        "id": "q_IeBdfFTIrM",
        "outputId": "d50b0cba-8c1b-4999-dd8e-9c92fad13c83"
      },
      "outputs": [
        {
          "output_type": "stream",
          "name": "stdout",
          "text": [
            " La programación es el proceso de crear un conjunto de instrucciones que le dicen a una computadora como realizar algún tipo de tarea. \n",
            "Algunos lenguajes de programación: \n"
          ]
        }
      ],
      "source": [
        "# función que procesa un string html y retorna únicamente el texto dentro de etiquetas\n",
        "# de párrafo (ignorando lo demás)\n",
        "def p_parser(html_string):\n",
        "    # encuentra la etiqueta <p> seguida de cualquier car\n",
        "    pattern = r'<p>([^<])+</p>' # Expresión regular\n",
        "    lines = html_string.split('\\n')\n",
        "    for line in lines:\n",
        "        if re.match(pattern, line):\n",
        "            strip_line = re.sub('</?p>', '', line) #toma patron y lo reemplaza por otro string\n",
        "            print(strip_line)\n",
        "\n",
        "p_parser(content)"
      ]
    },
    {
      "cell_type": "code",
      "execution_count": 12,
      "metadata": {
        "id": "0wkkLwWr6WHO"
      },
      "outputs": [],
      "source": []
    },
    {
      "cell_type": "markdown",
      "metadata": {
        "id": "rAcGtD4lh15J"
      },
      "source": [
        "---\n",
        "#2.1.1 - Completo"
      ]
    },
    {
      "cell_type": "markdown",
      "metadata": {
        "id": "hrNGwARZriHT"
      },
      "source": [
        "Ejercicio 2.1.1 (dificultad baja). Programe una función que sea capaz de eliminar las URLS de un archivo. Al probar la función con el documento HTML de prueba el resultado debería ser el siguiente:\n",
        "\n",
        "```\n",
        "<body>\n",
        "<center>\n",
        "<h1> Programación </h1>\n",
        "</center>\n",
        "<p> La programación es el proceso de crear un conjunto de instrucciones que le dicen a una computadora como realizar algún tipo de tarea. </p>\n",
        "<p>Algunos lenguajes de programación:</p> \n",
        "<ol>\n",
        "<li> <a href=\"\">Python</a> </li>\n",
        "<li> <a href=\"\">Java</a> </li>\n",
        "<li> <a href=\"\">GO</a> </li>\n",
        "<li> <a href=\"\">Julia</a> </li>\n",
        "</ol>\n",
        "</body>\n",
        "```\n",
        "\n",
        "Comprobar el resultado escribiendo un archivo nuevo con el HTML limpio de URLs."
      ]
    },
    {
      "cell_type": "code",
      "execution_count": 13,
      "metadata": {
        "colab": {
          "base_uri": "https://localhost:8080/"
        },
        "id": "uemjDU4NidjZ",
        "outputId": "080a037b-c21c-4e25-a1f9-0e37aca626c4"
      },
      "outputs": [
        {
          "output_type": "stream",
          "name": "stdout",
          "text": [
            "<body>\n",
            "<center>\n",
            "<h1> Programación </h1>\n",
            "</center>\n",
            "<p> La programación es el proceso de crear un conjunto de instrucciones que le dicen a una computadora como realizar algún tipo de tarea. </p>\n",
            "<p>Algunos lenguajes de programación:</p> \n",
            "<ol>\n",
            "<li> <a href=\"\">Python</a> </li>\n",
            "<li> <a href=\"\">Java</a> </li>\n",
            "<li> <a href=\"\">GO</a> </li>\n",
            "<li> <a href=\"\">Julia</a> </li>\n",
            "</ol>\n",
            "</body>\n",
            "None\n"
          ]
        }
      ],
      "source": [
        "def delurl(html_string):\n",
        "    # encontrar \n",
        "    pattern = '<li>'\n",
        "    lines = html_string.split('\\n')\n",
        "    for line in lines:\n",
        "        #re.match encuentra las lineas/cadenas que inician con el patron especificado\n",
        "        if re.match(pattern, line):\n",
        "            #re.sub sustituye caracteres en un string donde: re.sub(patron a sustituir,caracteres que sustituiran,input)\n",
        "            #strip_line = re.sub(r'http.*\"', '\"', line) #Opción 1: EXPRESIÓN REGULAR: re.sub(fragmento que esta entre http y \", sustituye con \", input)\n",
        "            strip_line = re.sub(r'\".*\"', '\"\"', line) #Opción 2: EXPRESIÓN REGULAR: re.sub(fragmento que esta entre \" y \", sustituyelo con \"\", input)\n",
        "            print(strip_line)\n",
        "        else:\n",
        "          print(line)\n",
        "\n",
        "print(delurl(content))"
      ]
    },
    {
      "cell_type": "markdown",
      "metadata": {
        "id": "wygp3qXShxdB"
      },
      "source": [
        "---\n",
        "#2.1.2 - Completo"
      ]
    },
    {
      "cell_type": "markdown",
      "metadata": {
        "id": "IMcw10NOsc8l"
      },
      "source": [
        "Ejercicio 2.1.2 (dificultad media). Programe una función que sea capaz de eliminar todas las etiquetas HTML de un archivo. Al probar la función con el documento HTML de prueba el resultado debería ser el siguiente:\n",
        "\n",
        "```\n",
        "Programación\n",
        "\n",
        "La programación es el proceso de crear un conjunto de instrucciones que le dicen a una computadora como realizar algún tipo de tarea.\n",
        "\n",
        "Algunos lenguajes de programación:\n",
        "Python\n",
        "Java\n",
        "GO\n",
        "Julia\n",
        "```\n",
        "\n",
        "Comprobar el resultado escribiendo un archivo nuevo con el HTML limpio de etiquetas."
      ]
    },
    {
      "cell_type": "code",
      "execution_count": 14,
      "metadata": {
        "colab": {
          "base_uri": "https://localhost:8080/"
        },
        "id": "AXX0s0KygDxq",
        "outputId": "73cb5cda-609d-4c02-e3b0-6da011293f95"
      },
      "outputs": [
        {
          "output_type": "stream",
          "name": "stdout",
          "text": [
            "\n",
            "\n",
            " Programación \n",
            "\n",
            " La programación es el proceso de crear un conjunto de instrucciones que le dicen a una computadora como realizar algún tipo de tarea. \n",
            "Algunos lenguajes de programación: \n",
            "\n",
            "Python\n",
            "Java\n",
            "GO\n",
            "Julia\n",
            "\n",
            "\n",
            "None\n"
          ]
        }
      ],
      "source": [
        "def delhtml(html_string):\n",
        "    pattern = r'</?.*>' #EXPRESIÓN REGULAR: todas las lineas que inicien con etiquetas, ya sea unicas o de apertura <> y cierre</>\n",
        "    lines = html_string.split('\\n')\n",
        "    for line in lines:\n",
        "        #re.match encuentra las lineas/cadenas que inician con el patron especificado\n",
        "        if re.match(pattern, line):\n",
        "            strip_line = re.sub('</.*>', '', line) #Opción 1 parte 1: EXPRESIÓN REGULAR: re.sub(fragmento que esta entre etiquetas de cierre, sustituye con \", input)\n",
        "            strip_line = re.sub('<.*>', '', strip_line)  #Opción 1 parte 2: EXPRESIÓN REGULAR: re.sub(fragmento que esta entre etiquetas de apertura, sustituye con \", input)\n",
        "            #strip_line = re.sub('<(\\S*?)[^>]*>', '', line) # ESTA NO ES MI SOLUCIÓN PERO ES MI APUNTE\n",
        "            print(strip_line)\n",
        "\n",
        "print(delhtml(content))"
      ]
    },
    {
      "cell_type": "markdown",
      "metadata": {
        "id": "8vqRqZ6po6Qo"
      },
      "source": [
        "---"
      ]
    },
    {
      "cell_type": "markdown",
      "metadata": {
        "id": "JzOKDNXdo8Ur"
      },
      "source": [
        "# 2.1.3 - Incompleto"
      ]
    },
    {
      "cell_type": "markdown",
      "metadata": {
        "id": "G1mXyBFB6dXA"
      },
      "source": [
        "Ejercicio 2.1.3 (Dificultad media) Programar una función  capaz de detectar etiquetas HTML que no están correctas (considerando que el HTML que permite el anidamiento de etiquetas). Por ejemplo, el siguiente HTML es una versión modificada del archivo de ejemplo para la cual hay una etiqueta `<center>` que nunca cierra:\n",
        "\n",
        "```\n",
        "<body>\n",
        "<center>\n",
        "<h1> Programación </h1>\n",
        "<p> La programación es el proceso de crear un conjunto de instrucciones que le dicen a una computadora como realizar algún tipo de tarea. </p>\n",
        "<p>Algunos lenguajes de programación:</p> \n",
        "<ol>\n",
        "<li> <a href=\"https://www.python.org/\">Python</a> </li>\n",
        "<li> <a href=\"https://www.java.com/es/\">Java</a> </li>\n",
        "<li> <a href=\"https://go.dev/\">GO</a> </li>\n",
        "<li> <a href=\"https://julialang.org/\">Julia</a> </li>\n",
        "</ol>\n",
        "</body>\n",
        "```\n",
        "\n",
        "Otro ejemplo es el siguiente en el cual hay una etiqueta de cierre `</li>` para la cual no hay una correspondiente etiqueta de apertura `<li>`:\n",
        "\n",
        "```\n",
        "<body>\n",
        "<center>\n",
        "<h1> Programación </h1>\n",
        "</center>\n",
        "<p> La programación es el proceso de crear un conjunto de instrucciones que le dicen a una computadora como realizar algún tipo de tarea. </p>\n",
        "<p>Algunos lenguajes de programación:</p> \n",
        "<ol>\n",
        "<li> <a href=\"https://www.python.org/\">Python</a> </li>\n",
        "<li> <a href=\"https://www.java.com/es/\">Java</a> </li>\n",
        " <a href=\"https://go.dev/\">GO</a> </li>\n",
        "<li> <a href=\"https://julialang.org/\">Julia</a> </li>\n",
        "</ol>\n",
        "</body>\n",
        "```\n",
        "\n",
        "\n"
      ]
    },
    {
      "cell_type": "code",
      "execution_count": 24,
      "metadata": {
        "colab": {
          "base_uri": "https://localhost:8080/"
        },
        "id": "DvRh9OaNposM",
        "outputId": "3e4d8666-d690-4cbc-8e47-f1f1b4af1554"
      },
      "outputs": [
        {
          "output_type": "stream",
          "name": "stdout",
          "text": [
            "[['<body', '>'], ['<center', '>'], ['<h1', '>', '</h1', '>'], ['</center', '>'], ['<p', '>', '</p', '>'], ['<p', '>', '</p', '>'], ['<ol', '>'], ['<li', '>', '<a', '>', '</a', '>', '</li', '>'], ['<li', '>', '<a', '>', '</a', '>', '</li', '>'], ['<li', '>', '<a', '>', '</a', '>', '</li', '>'], ['<li', '>', '<a', '>', '</a', '>', '</li', '>'], ['</ol', '>'], ['</body', '>']]\n",
            "None\n"
          ]
        }
      ],
      "source": [
        "def delhtml(html_string):\n",
        "\n",
        "    #pattern = r'</?.*>' #EXPRESIÓN REGULAR: todas las lineas que inicien con etiquetas, ya sea unicas o de apertura <> y cierre</>\n",
        "    lines = html_string.split('\\n')\n",
        "    tags=[]\n",
        "    for line in lines:\n",
        "        taglist= (re.findall(r'</?\\w*|\\s?>',line))\n",
        "        tags.append(taglist)\n",
        "    print(tags)\n",
        "\n",
        "\n",
        "print(delhtml(content))"
      ]
    },
    {
      "cell_type": "code",
      "execution_count": null,
      "metadata": {
        "colab": {
          "base_uri": "https://localhost:8080/"
        },
        "id": "4OkOIkbYTNTW",
        "outputId": "ecc6e57b-db49-4738-b901-3958c818a82b"
      },
      "outputs": [
        {
          "name": "stdout",
          "output_type": "stream",
          "text": [
            "<body>\n",
            "<center>\n",
            "<h1> Programación </h1>\n",
            "</center>\n",
            "<p> La programación es el proceso de crear un conjunto de instrucciones que le dicen a una computadora como realizar algún tipo de tarea. </p>\n",
            "<p>Algunos lenguajes de programación:</p> \n",
            "<ol>\n",
            "<li> <a href=\"https://www.python.org/\">Python</a> </li>\n",
            "<li> <a href=\"https://www.java.com/es/\">Java</a> </li>\n",
            "<li> <a href=\"https://go.dev/\">GO</a> </li>\n",
            "<li> <a href=\"https://julialang.org/\">Julia</a> </li>\n",
            "</ol>\n",
            "</body>\n"
          ]
        }
      ],
      "source": [
        "print(content)"
      ]
    },
    {
      "cell_type": "markdown",
      "metadata": {
        "id": "UhSmqYW4o0AU"
      },
      "source": [
        "---"
      ]
    },
    {
      "cell_type": "markdown",
      "metadata": {
        "id": "KU8MbEb4zZmK"
      },
      "source": [
        "# 2.2 Estructuras de datos"
      ]
    },
    {
      "cell_type": "code",
      "execution_count": null,
      "metadata": {
        "id": "06v74BA70Pxo"
      },
      "outputs": [],
      "source": [
        "import random"
      ]
    },
    {
      "cell_type": "code",
      "execution_count": null,
      "metadata": {
        "id": "ZxvpcNs95G38"
      },
      "outputs": [],
      "source": [
        "# crea una lista 1D con números aleatorios\n",
        "N = 5\n",
        "list1d = list()\n",
        "for i in range(N):\n",
        "    x = random.randint(0,256)\n",
        "    list1d.append(x)\n"
      ]
    },
    {
      "cell_type": "code",
      "execution_count": null,
      "metadata": {
        "colab": {
          "base_uri": "https://localhost:8080/"
        },
        "id": "nKfI_1c-5RiT",
        "outputId": "f87b11c2-de34-4397-f6c8-5ab3b8bf84a1"
      },
      "outputs": [
        {
          "name": "stdout",
          "output_type": "stream",
          "text": [
            "[181, 59, 74, 189, 82]\n"
          ]
        }
      ],
      "source": [
        "print(list1d)"
      ]
    },
    {
      "cell_type": "code",
      "execution_count": null,
      "metadata": {
        "id": "ZxOAt0Lz5T6j"
      },
      "outputs": [],
      "source": [
        "# crea una lista 2D con números aleatorios\n",
        "M=3\n",
        "N=5\n",
        "list2d = list()\n",
        "for i in range(M):\n",
        "    list2d.append([random.randint(0,256) for _ in range(N)])\n"
      ]
    },
    {
      "cell_type": "code",
      "execution_count": null,
      "metadata": {
        "colab": {
          "base_uri": "https://localhost:8080/"
        },
        "id": "72bfRRdm5Tr6",
        "outputId": "f6d25752-1e54-452c-a155-3f88b73b517b"
      },
      "outputs": [
        {
          "name": "stdout",
          "output_type": "stream",
          "text": [
            "[[251, 129, 195, 168, 228], [240, 51, 188, 153, 2], [40, 170, 199, 205, 192]]\n"
          ]
        }
      ],
      "source": [
        "print(list2d)\n",
        "\n"
      ]
    },
    {
      "cell_type": "code",
      "execution_count": null,
      "metadata": {
        "id": "giOYlEfO5bhB"
      },
      "outputs": [],
      "source": [
        "# Implementa una Pila LIFO\n",
        "class ArrayStack:\n",
        "    '''Pila LIFO'''\n",
        "    def __init__(self):\n",
        "        '''pila vacía'''\n",
        "        self._data=list([])\n",
        "\n",
        "    def __len__(self):\n",
        "        return len(self._data)\n",
        "\n",
        "    def is_empty(self):\n",
        "        '''True si la pila es vacia'''\n",
        "        return len(self._data)==0\n",
        "\n",
        "    def push(self, e):\n",
        "        '''agrega e al tope de la pila'''\n",
        "        self._data.append(e)\n",
        "\n",
        "    def top(self):\n",
        "        '''retorna pero no elimina el tope de la pila\n",
        "            StackOverflow Exception si la pila es vacía\n",
        "        '''\n",
        "        if self.is_empty():\n",
        "            raise StackOverflow('Empty Stack')\n",
        "        # si no es vacía retorna el top \n",
        "        return self._data[-1]\n",
        "\n",
        "    def pop(self):\n",
        "        '''retorna y remueve el tope de la pila\n",
        "          StackOverflow Exception si es vacía'''\n",
        "        if self.is_empty():\n",
        "            raise StackOverflow('Empty Stack')\n",
        "        return self._data.pop()"
      ]
    },
    {
      "cell_type": "code",
      "execution_count": null,
      "metadata": {
        "id": "6aoiR6bU5bct"
      },
      "outputs": [],
      "source": [
        "# Verificación de paréntesis balanceados usando ArrayStack\n",
        "#\n",
        "# Correct: ()(()){([()])}\n",
        "# Correct: ((()(()){([()])}))\n",
        "# Incorrect: )(()){([()])}\n",
        "# Incorrect: ({[])}\n",
        "# Incorrect: (\n",
        "\n",
        "\n",
        "def is_matched(expr):\n",
        "    '''True si los parentesis están balanceados'''\n",
        "    # nota: es importante que estén alineados apertura y cierre\n",
        "    openbyleft = '({['\n",
        "    closebyrighty = ')}]'\n",
        "    S = ArrayStack()\n",
        "    for c in expr:\n",
        "        if c in openbyleft:\n",
        "            S.push(c)\n",
        "        elif c in closebyrighty:\n",
        "            if S.is_empty( ):\n",
        "                return False\n",
        "                # el paréntesis que cierra es diferente al paréntesis en el top de pila\n",
        "            if closebyrighty.index(c) != openbyleft.index(S.pop()):\n",
        "                return False\n",
        "    return S.is_empty( )"
      ]
    },
    {
      "cell_type": "code",
      "execution_count": null,
      "metadata": {
        "colab": {
          "base_uri": "https://localhost:8080/"
        },
        "id": "hQZaPhnf6X9D",
        "outputId": "df25e18e-c122-4097-dd32-1bafa4582aa8"
      },
      "outputs": [
        {
          "name": "stdout",
          "output_type": "stream",
          "text": [
            "(3x)(24*(23y+25z))-6x{(3x+5y[-1(4pi)])} True\n",
            "(2a-3(-4c(9a)((3a+b)){6t(2-[(7x)^2])})) True\n",
            ")(()){([()])} False\n",
            "({[])} False\n",
            "( False\n"
          ]
        }
      ],
      "source": [
        "\n",
        "expressions=['(3x)(24*(23y+25z))-6x{(3x+5y[-1(4pi)])}',\n",
        "    '(2a-3(-4c(9a)((3a+b)){6t(2-[(7x)^2])}))',\n",
        "    ')(()){([()])}',\n",
        "    '({[])}',\n",
        "    '(']\n",
        "\n",
        "for e in expressions:\n",
        "    print(e, is_matched(e))"
      ]
    },
    {
      "cell_type": "code",
      "execution_count": null,
      "metadata": {
        "id": "267jRawOBIPa"
      },
      "outputs": [],
      "source": [
        "# BST, Binary Search Tree, Árbol Binario de búsqueda\n",
        "\n",
        "# Un BST es un árbol binario (cada nodo tiene un máximo de dos hijos)\n",
        "# tal que todos los valores en el subárbol izquierdo de un nodo v son menores que v\n",
        "# y todos los valores en el subárbol derecho de v son mayores o igual a v.\n",
        "# Note que para un nodo cualquiera, el árbol izquierdo y el árbol derecho son BST.\n",
        "\n",
        "# En un BST hacer recorrido in-orden genera la lista ordenada, de hecho el recorrido in-order de un BST es un algoritmo eficiente de sorting.\n",
        "\n",
        "# Algunas operaciones en el BST son muy intuitivas, por ejemplo:\n",
        "# Cómo encontrarías al MAX?\n",
        "# Cómo encontrarías al MIN?\n",
        "# Cómo encontrarías el número 9?\n",
        "# Cómo encontrarías el número x?\n",
        "\n",
        "\n",
        "class BinarySearchTree:\n",
        "    '''implementación de BST basado de\n",
        "       libro Data Structures & Algorithms With Python'''\n",
        "    def __init__(self):\n",
        "        self.root = None\n",
        "\n",
        "    def insert(self, val):\n",
        "            #The __insert function is recursive and is not a passed a self parameter. It is a static function (not a method of the class) but is hidden inside the insert function so users of the class will not know it exists.\n",
        "        def __insert(some_root, val):\n",
        "            if some_root == None:\n",
        "                return BinarySearchTree.__Node(val)\n",
        "            if val < some_root.get_val():\n",
        "                some_root.set_left(__insert(some_root.get_left(), val))\n",
        "            else:\n",
        "                some_root.set_right(__insert(some_root.get_rigth(), val))\n",
        "            # updated root\n",
        "            return some_root\n",
        "        # llamada a la función recursiva estática\n",
        "        self.root = __insert(self.root, val)\n",
        "\n",
        "    def __iter__(self):\n",
        "        if self.root != None:\n",
        "            return self.root.__iter__()\n",
        "        else:\n",
        "            return [].__iter__()\n",
        "\n",
        "    # clase interna que define un nodo y sus métodos\n",
        "    class __Node:\n",
        "        def __init__(self, val, left=None, right=None):\n",
        "            self.val = val\n",
        "            self.left = left\n",
        "            self.right = right\n",
        "\n",
        "        def get_val(self):\n",
        "            return self.val\n",
        "\n",
        "        def set_val(self, new_val):\n",
        "            self.val = new_val\n",
        "\n",
        "        def get_left(self):\n",
        "            return self.left\n",
        "\n",
        "        def set_left(self, new_left):\n",
        "            self.left = new_left\n",
        "\n",
        "        def get_rigth(self):\n",
        "            return self.right\n",
        "\n",
        "        def set_right(self, new_right):\n",
        "            self.right = new_right\n",
        "\n",
        "        def __iter__(self):\n",
        "            '''Un método especial que convierte en\n",
        "            iterable a los objetos que lo implementan\n",
        "            https://wiki.python.org/moin/Iterator\n",
        "            En este caso la implementación realiza un\n",
        "            recorrido in-order, lo cual devuelve los valores en orden ascendente: izq,raíz,der\n",
        "            el uso de yield crea un generator.\n",
        "            '''\n",
        "            # izq\n",
        "            if self.left != None:\n",
        "                for e in self.left:\n",
        "                    yield e\n",
        "            # raíz\n",
        "            yield self.val\n",
        "            # der\n",
        "            if self.right != None:\n",
        "                for e in self.right:\n",
        "                    yield e"
      ]
    },
    {
      "cell_type": "code",
      "execution_count": null,
      "metadata": {
        "colab": {
          "base_uri": "https://localhost:8080/"
        },
        "id": "0mGUBx_GC4C3",
        "outputId": "df23d32d-7fa2-4e78-e5a5-cfa3efbf10b0"
      },
      "outputs": [
        {
          "name": "stdout",
          "output_type": "stream",
          "text": [
            "1.0\n",
            "2.0\n",
            "4.0\n",
            "5.0\n",
            "6.0\n",
            "7.0\n",
            "8.0\n",
            "9.0\n"
          ]
        }
      ],
      "source": [
        "lst = [5, 8, 2, 1, 4, 9, 6, 7]\n",
        "tree = BinarySearchTree()\n",
        "\n",
        "for x in lst:\n",
        "    tree.insert(float(x))\n",
        "\n",
        "for x in tree:\n",
        "    print(x)"
      ]
    },
    {
      "cell_type": "markdown",
      "metadata": {
        "id": "Np9-W2Pt0MCY"
      },
      "source": [
        "## Ejercicios\n"
      ]
    },
    {
      "cell_type": "markdown",
      "metadata": {
        "id": "USTRN8gi0jpz"
      },
      "source": [
        "Ejercicio 2.2.1 (dificultad baja). Programar una función que genere una lista con 3 dimensiones [LxMxN] (lista de listas de listas). El número de elementos en cada dimensión será a elección del estudiante pero se recomienda un número pequeño de elementos que sea manejable. Los valores de los elementos serán números aleatorios."
      ]
    },
    {
      "cell_type": "markdown",
      "metadata": {
        "id": "-FbHkpyd0wiU"
      },
      "source": [
        "Ejercicio 2.2.2 (dificultad baja). A partir del resultado del ejercicio anterior (2.2.1), programe otra función que genere una lista con 3 dimensiones [Lx(MxN)] tal que si consideramos a la estructura como una lista de matrices, los elementos en la diagonal de la i-ésima matriz sean igual a i con i=1,2,3,... \n",
        "\n",
        "\n",
        "Por ejemplo:\n",
        "```\n",
        "[ [[1  5], [3  1]], [[2    4], [0   2]], [[3    6], [5   3]] ]\n",
        "```\n",
        "representa una lista con 3 matrices de 2x2 cuyos elementos en la diagonal cumplen la condición:\n",
        "```\n",
        "[ [[1  5]    [[2    4]   [[3    6]  \n",
        "  [3  1]]    [0    2]]   [5   3]]  ]\n",
        "```"
      ]
    },
    {
      "cell_type": "markdown",
      "metadata": {
        "id": "M6vnzX1v1U_C"
      },
      "source": [
        "Ejercicio 2.2.3 (dificultad media). Programar la clase `ArrayQueue` (una cola FIFO) con al menos los siguientes métodos vistos en clase (además de los métodos que considere necesarios):\n",
        "\n",
        "```\n",
        "Q.enqueue(e): Agregar al elemento e al final de la cola Q\n",
        "Q.dequeue(): Remover y retornar el primer elemento de la cola Q (o bien una excepción si la cola está vacía)\n",
        "Q.first(): Devuelve una copia o una referencia al primer elemento (el de enfrente) de la cola Q pero sin removerlo.\n",
        "Q.is_empty(): True si Q no tiene elementos\n",
        "len(S): retorna el número de elementos en Q\n",
        "````\n"
      ]
    },
    {
      "cell_type": "markdown",
      "metadata": {
        "id": "67rJoJea1usU"
      },
      "source": [
        "Ejercicio 2.2.4 (dificultad media). En python `__repr__` es un método especial para representar los objetos de una clase como string. Este método es el que se ejecuta cuando invocamos `print()`. Programe el método `__repr__` de la clase `BinarySearchTree` de manera que se pueda imprimir el árbol BST de manera jerárquica. Consejos: La orientación puede ser horizontal si lo considera más fácil de programar, por ejemplo:\n",
        "```\n",
        "            34\n",
        "        25\n",
        "    20\n",
        "\n",
        "\n",
        "15\n",
        "            12\n",
        "        11\n",
        "            10\n",
        "    9 \n",
        "            7\n",
        "        5\n",
        "````\n"
      ]
    },
    {
      "cell_type": "markdown",
      "metadata": {
        "id": "CVRJoiRv2Tvf"
      },
      "source": [
        "Ejercicio 2.2.5 (dificultad alta, OPCIONAL). Implementar el método `delete(e)` en la clase `BinarySearchTree`. El método `delete(e)` no hace nada si `e` no está en ningún nodo del árbol pero en caso contrario: elimina al elemento `e` del árbol de manera que el árbol resultante continua siendo un BST por lo que deberá considerar casos en los que al quitar el nodo correspondiente, se tiene que recomponer al árbol. Consejo: los casos a considerar son:\n",
        "\n",
        "*   caso 1: Si `e` no tiene hijos entonces simplemente se elimina al nodo. Como resultado, el padre de `e` debería apuntar a `None`.\n",
        "*   caso 2: Si `e` solamente tiene un hijo entonces como resultado el hijo de `e` remplazará a `e` (es decir, el hijo asciende en el árbol para tomar la posición de `e` una vez eliminado).\n",
        "*   caso 3: Si `e` tiene dos hijos, entonces se necesita encontrar al sucesor `y` -el cual debe estar en el subárbol derecho de `e` - para que `y` tome el lugar de `e` una vez eliminado. El resto del subárbol derecho original de `e` se convierte en el nuevo subárbol derecho de `y`. El subárbol izquierdo de `e` se convierte en el nuevo subárbol izquierdo de `y`. Debe considerar que en este caso 3 el resultado depende de si `y` es hijo derecho de `e`. Consejo: ver capítulo 12 Binary Search Trees de Cormen et al. (2009).\n",
        "\n",
        "\n"
      ]
    },
    {
      "cell_type": "markdown",
      "metadata": {
        "id": "VfMfGlilM5ht"
      },
      "source": [
        "Referencias\n",
        "\n",
        "*   Ver capítulo 6 Stacks, Queues, and Deques Goodrich et al. (2013).\n",
        "*   ver 6.5 Binary Search Trees de Lee et al. (2015)\n",
        "*   Ver capítulo 12 Binary Search Trees de Cormen et al. (2009).\n",
        "*   Ver capítulo 11 Search Trees de Goodrich et al. (2013)."
      ]
    },
    {
      "cell_type": "markdown",
      "metadata": {
        "id": "ek3QTpGUzgOR"
      },
      "source": [
        "# 2.3 Acceso, lectura y recuperación de datos"
      ]
    },
    {
      "cell_type": "code",
      "execution_count": null,
      "metadata": {
        "id": "Df49W_5BD2r7"
      },
      "outputs": [],
      "source": [
        "import re\n",
        "import requests\n",
        "from bs4 import BeautifulSoup"
      ]
    },
    {
      "cell_type": "code",
      "execution_count": null,
      "metadata": {
        "id": "iJsLcqAlzh1J"
      },
      "outputs": [],
      "source": [
        "# Ologies and Isms: A Dictionary of Word Beginnings and Endings (Oxford Paperback Reference) 22 Aug. 2002\n",
        "# by Michael Quinion \n",
        "# https://www.amazon.co.uk/Ologies-Isms-Dictionary-Beginnings-Paperback/dp/0192801236/ref=cm_cr_arp_d_product_top?ie=UTF8\n",
        "\n",
        "# 1,250 entries, illustrated by some 10,000 examples, all defined and explained. It’s based on my book Ologies and Isms: Word Beginnings and Endings, published by Oxford University Press in 2002.\n",
        "\n",
        "# https://www.affixes.org/index.html\n",
        "\n",
        "# ABCDEFGHIJKLMNOPQRSTUVWXYZ\n",
        "\n",
        "# https://www.affixes.org/alpha/a/index.html\n",
        "# https://www.affixes.org/alpha/b/index.html\n",
        "# ...\n",
        "# ...\n",
        "# https://www.affixes.org/alpha/z/index.html\n",
        "\n",
        "class AffixesScraper:\n",
        "    \"\"\"docstring for AffixesScraper\"\"\"\n",
        "    def __init__(self):\n",
        "        self.base_url='https://www.affixes.org/alpha/'\n",
        "\n",
        "    def get_page(self, char):\n",
        "        \"\"\"Requests a remote page from  website\"\"\"\n",
        "        char_url = '{}/{}/'.format(self.base_url,char)\n",
        "        try:\n",
        "            #print('Requesting...', char_url)\n",
        "            response = requests.get( char_url,\n",
        "                stream=True,\n",
        "                verify=False,\n",
        "                allow_redirects=True)\n",
        "            #print(\"content-type\", response.headers[\"content-type\"])\n",
        "            r = response.text\n",
        "            #print(r)\n",
        "            DOM = BeautifulSoup(r, features=\"html.parser\")\n",
        "            affixes = set([re.sub(r'\\d+', '', item.find('a').get_text().lower())\n",
        "                for item in DOM.select('div.index-row')])\n",
        "            # for item in DOM.select('div.index-row'):\n",
        "            #     afixx = item.find('a').get_text()\n",
        "            for a in sorted(affixes):\n",
        "                print(a)\n",
        "\n",
        "            return affixes\n",
        "\n",
        "        except requests.exceptions.MissingSchema:\n",
        "            print(\"You forgot the protocol. http://, https://, ftp://\")\n",
        "        except requests.exceptions.ConnectionError:\n",
        "            print(\"Sorry, but I couldn't connect. There was a connection problem.\")\n",
        "        except requests.exceptions.Timeout:\n",
        "            print(\"Sorry, but I couldn't connect. I timed out.\")"
      ]
    },
    {
      "cell_type": "code",
      "execution_count": null,
      "metadata": {
        "id": "lfusoWa_D_Ls"
      },
      "outputs": [],
      "source": [
        "#alphabet=['A','B','C','D','E','F','G','H','I','JK','L','M','N','O','P','Q','R','S','T','U','V','W','X','Y','Z']\n",
        "alphabet=['A']\n",
        "scrapy_doo = AffixesScraper()\n",
        "for l in [letter.lower() for letter in alphabet]:\n",
        "\tscrapy_doo.get_page(l)"
      ]
    },
    {
      "cell_type": "code",
      "execution_count": null,
      "metadata": {
        "id": "XqdB7tdLJvkJ"
      },
      "outputs": [],
      "source": [
        "alphabet=['A','B','C','D','E','F','G','H','I','JK','L','M','N','O','P','Q','R','S','T','U','V','W','X','Y','Z']\n",
        "\n",
        "scrapy_doo = AffixesScraper()\n",
        "\n",
        "afixes = []\n",
        "for l in [letter.lower() for letter in alphabet]:\n",
        "\tafixes+=scrapy_doo.get_page(l)\n",
        "# save file\n",
        "with open('afixes.txt','w') as f:\n",
        "    for afix in afixes:\n",
        "        f.write(\"%s\\n\" % afix)\n"
      ]
    },
    {
      "cell_type": "markdown",
      "metadata": {
        "id": "o1xXCrHFV7AG"
      },
      "source": [
        "## Ejercicios\n"
      ]
    },
    {
      "cell_type": "markdown",
      "metadata": {
        "id": "YAF_CyoHWCbK"
      },
      "source": [
        "Ejercicio 2.3.1 (dificultad baja) Programar una clase `MexCodesScraper` la cual acceda al recurso de la URL siguiente:\n",
        "\n",
        "https://www.correosdemexico.gob.mx/datosabiertos/cp/cpdescarga.txt\n",
        "\n",
        "Si no hay fallos en la petición HTTP, la respuesta debe ser una tabla con la información de los códigos postales de México cuyos campos están separados por el símbolo `|` (pipe). Verifique que la respuesta es correcta imprimiendo las primeras 5 filas de la tabla. Consejo: puede basarse en la clase AffixesScraper visto en el curso.\n"
      ]
    },
    {
      "cell_type": "markdown",
      "metadata": {
        "id": "W6j4_Sp8WMHW"
      },
      "source": [
        "Ejercicio 2.3.2 (dificultad media) Adapte la clase `MexCodesScraper` del ejercicio anterior (2.3.1) para que el método `get_page()` reciba un parámetro `entidad` con el nombre de la entidad federativa (por ejemplo Sinaloa, Yucatán) y retorne la tabla filtrada de manera que las únicas filas correspondan a las de la entidad federativa indicada por el parámetro.\n",
        "Modifique para que el método `get_page()` reciba dos parámetros `entidad` y `municipio` y retorne la tabla filtrada de manera que las únicas filas correspondan a las de la entidad federativa y el municipio indicado por el parámetro. \n"
      ]
    },
    {
      "cell_type": "markdown",
      "metadata": {
        "id": "q0GviW6XWegi"
      },
      "source": [
        "Ejercicio 2.3.3 (dificultad alta) Programe una nueva versión de la clase `BinarySearchTree` cuyos nodos puedan contener la información de la tabla del ejercicio anterior (2.3.2) en un diccionario (dic) pero que al insertar en el árbol, el criterio sea una comparación alfabética de los valores de la columna (d_asenta): por ejemplo Axotla es menor que Chimalistac dado que la letra A antecede a la C en el alfabeto. Una vez insertados todos los registros, utilice el siguiente bucle que debería desplegar la información de la tabla en orden alfabético creciente:\n",
        "```\n",
        "for x in tree:\n",
        "   print(x)\n",
        "```\n",
        "Por último, guarde los resultados ordenados alfabéticamente en un archivo y verifique el resultado.\n"
      ]
    },
    {
      "cell_type": "markdown",
      "metadata": {
        "id": "Y9eQy9HF4dmX"
      },
      "source": [
        "## Bibliografía \n",
        "*   Cormen, T. H., Leiserson, C. E., Rivest, R. L., & Stein, C. (2009). Introduction to Algorithms. Third Edition. New York.\n",
        "\n",
        "*   Goodrich, M. T., Tamassia, R., & Goldwasser, M. H. (2013). Data structures and algorithms in Python. John Wiley & Sons Ltd.\n",
        "\n",
        "*   Lee, K. D., Lee, K. D., & Steve Hubbard, S. H. (2015). Data Structures and Algorithms with Python. Springer.\n",
        "\n",
        "## Enlaces\n",
        "\n",
        "https://docs.python.org/3.7/library/re.html\n",
        "\n",
        "https://requests.readthedocs.io/en/latest/\n",
        "\n",
        "https://www.crummy.com/software/BeautifulSoup/\n",
        "\n",
        "\n"
      ]
    },
    {
      "cell_type": "markdown",
      "metadata": {
        "id": "TicPc63_8h6v"
      },
      "source": [
        "# 2.4 Modificación de datos\n"
      ]
    },
    {
      "cell_type": "code",
      "execution_count": null,
      "metadata": {
        "id": "Cjg36d45M08_"
      },
      "outputs": [],
      "source": []
    }
  ],
  "metadata": {
    "colab": {
      "collapsed_sections": [],
      "provenance": [],
      "include_colab_link": true
    },
    "kernelspec": {
      "display_name": "Python 3",
      "name": "python3"
    },
    "language_info": {
      "name": "python"
    }
  },
  "nbformat": 4,
  "nbformat_minor": 0
}