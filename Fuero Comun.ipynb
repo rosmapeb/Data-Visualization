{
 "cells": [
  {
   "cell_type": "markdown",
   "metadata": {},
   "source": [
    "## DATA PROCESING DENUNCIAS v1\n",
    " __SECRETARIADO EJECUTIVO __  \n",
    " _Reportes de incidencia Enero 2015 - Julio 2018_   \n",
    " __ROSA MARTHA PERALTA BLANCO__"
   ]
  },
  {
   "cell_type": "markdown",
   "metadata": {},
   "source": [
    "#### Descripción\n",
    "\n",
    "El código calcula el promedio y los limites \"normales\" para series de tiempo de delitos anuales.  \n",
    "Los datos se agrupan por año, tipo de delito y estatus metropolitano (Urbe central, urbe extrerior y rural).\n",
    "A partir de ellos, se obtiene el promedio y los límites, los cuales se obtienen sumando/restando tres desviaciones estandar al promedio (es decir Z-Scores):\n",
    "\n",
    "- Máximo = mean + (3 * sd)\n",
    "- Mínimo = mean - (3 * sd)"
   ]
  },
  {
   "cell_type": "markdown",
   "metadata": {},
   "source": [
    "#### Estructura del input  \n",
    "- __year__      : Año de denuncia  \n",
    "- __clv__       : Clave de estado  \n",
    "- __location_code__ : Clave de municipio  \n",
    "- __municipio__     : Nombre de municipio  \n",
    "- __good_legal__    : Buen jurídico afectado  \n",
    "- __typess__        : Tipo de delito  \n",
    "- __subtype__       : Subtipo de delito  \n",
    "- __modality__      : Modalidad del delito  \n",
    "- __cfinal__        : Clave del delito  \n",
    "- __tipoz__         : Tipo de municipio: Urbano-Central, Urbano-Exterior, Rural. Delimitación de las Zonas Metropolitanas de México 2010:  \n",
    "http://Www.Conapo.Gob.Mx/Es/Conapo/Zonas_Metropolitanas_2010  \n",
    "- __ene-dic__       : Cantidad de denuncias consideradas por mes"
   ]
  },
  {
   "cell_type": "markdown",
   "metadata": {},
   "source": [
    "#### Notas\n",
    "\n",
    "Para esta versión despues del script se procesan algunos pasos:  \n",
    "1. Si limsup y liminf son \"NA\" se les asigna el valor de mean  \n",
    "2. En el caso los \"NA\" de agosto-diciembre de 2018 se remplazan por valores vacios  \n",
    "3. Calcular total de denuncias de enero a diciembre (a integrar proceso en v2)  \n",
    "4. _Pendiente_ : Sustituir valores negativos"
   ]
  },
  {
   "cell_type": "markdown",
   "metadata": {},
   "source": [
    "## CÓDIGO"
   ]
  },
  {
   "cell_type": "markdown",
   "metadata": {},
   "source": [
    "- __INPUT__"
   ]
  },
  {
   "cell_type": "code",
   "execution_count": 1,
   "metadata": {},
   "outputs": [],
   "source": [
    "zmetrop <- read.csv(\"/home/rosa/Documentos/Proyecto_Seguridad/DELITOS HASTA JUNIO2018/EjercicioSeptiembre/base_zmR.csv\")\n",
    "attach(zmetrop)\n",
    "# CONSTRUYE campo de concatenacion\n",
    "conca<-paste(year,typess,tipoz)\n",
    "x<-data.frame(conca,year,clv,location_code,municipio,good_legal,typess,subtype,modality,cfinal,tipoz,ene,feb,mar,abr,may,jun,jul,ago,sep,oct,nov,dic)"
   ]
  },
  {
   "cell_type": "markdown",
   "metadata": {},
   "source": [
    "2. Cálculo de tabla colapsada por _year_, _typess_ y _tipozm_"
   ]
  },
  {
   "cell_type": "code",
   "execution_count": 4,
   "metadata": {},
   "outputs": [
    {
     "data": {
      "text/html": [
       "<table>\n",
       "<thead><tr><th scope=col>conca</th><th scope=col>recurrencia</th><th scope=col>enemean</th><th scope=col>enesd</th><th scope=col>febmean</th><th scope=col>febsd</th><th scope=col>marmean</th><th scope=col>marsd</th><th scope=col>abrmean</th><th scope=col>abrsd</th><th scope=col>⋯</th><th scope=col>agomean</th><th scope=col>agosd</th><th scope=col>sepmean</th><th scope=col>sepsd</th><th scope=col>octmean</th><th scope=col>octsd</th><th scope=col>novmean</th><th scope=col>novsd</th><th scope=col>dicmean</th><th scope=col>dicsd</th></tr></thead>\n",
       "<tbody>\n",
       "\t<tr><td>2015 Aborto Central             </td><td> 87                             </td><td>0.34482759                      </td><td>0.7443990                       </td><td>0.4827586                       </td><td>0.7603865                       </td><td>0.41379310                      </td><td>0.7400774                       </td><td>0.4597701                       </td><td>1.0543884                       </td><td>⋯                               </td><td>0.3448276                       </td><td>0.6255711                       </td><td>0.2068966                       </td><td>0.4855572                       </td><td>0.36781609                      </td><td> 0.7940907                      </td><td>0.29885057                      </td><td>0.6308898                       </td><td>0.20689655                      </td><td>0.4350336                       </td></tr>\n",
       "\t<tr><td>2015 Aborto Exterior            </td><td> 12                             </td><td>0.00000000                      </td><td>0.0000000                       </td><td>0.1666667                       </td><td>0.5773503                       </td><td>0.50000000                      </td><td>0.5222330                       </td><td>0.2500000                       </td><td>0.4522670                       </td><td>⋯                               </td><td>0.0000000                       </td><td>0.0000000                       </td><td>0.0000000                       </td><td>0.0000000                       </td><td>0.25000000                      </td><td> 0.4522670                      </td><td>0.16666667                      </td><td>0.3892495                       </td><td>0.08333333                      </td><td>0.2886751                       </td></tr>\n",
       "\t<tr><td>2015 Aborto Rural               </td><td> 83                             </td><td>0.07228916                      </td><td>0.2605404                       </td><td>0.1084337                       </td><td>0.3128176                       </td><td>0.08433735                      </td><td>0.2795824                       </td><td>0.1084337                       </td><td>0.4420586                       </td><td>⋯                               </td><td>0.2409639                       </td><td>0.5541498                       </td><td>0.1566265                       </td><td>0.4271839                       </td><td>0.07228916                      </td><td> 0.3037623                      </td><td>0.07228916                      </td><td>0.2605404                       </td><td>0.16867470                      </td><td>0.5136972                       </td></tr>\n",
       "\t<tr><td>2015 Abuso de confianza Central </td><td>206                             </td><td>5.10194175                      </td><td>9.5168296                       </td><td>5.0339806                       </td><td>9.0862432                       </td><td>5.25728155                      </td><td>9.3895022                       </td><td>4.8203883                       </td><td>8.8091843                       </td><td>⋯                               </td><td>5.2864078                       </td><td>9.2425585                       </td><td>5.7087379                       </td><td>9.5500030                       </td><td>5.82038835                      </td><td>10.1386376                      </td><td>5.31067961                      </td><td>9.8590349                       </td><td>5.08252427                      </td><td>8.6801138                       </td></tr>\n",
       "\t<tr><td>2015 Abuso de confianza Exterior</td><td> 70                             </td><td>0.44285714                      </td><td>0.7349596                       </td><td>0.6285714                       </td><td>1.1315172                       </td><td>0.52857143                      </td><td>1.0864305                       </td><td>0.5428571                       </td><td>0.9276074                       </td><td>⋯                               </td><td>0.6571429                       </td><td>1.1149279                       </td><td>0.5285714                       </td><td>1.0730078                       </td><td>0.68571429                      </td><td> 1.3571374                      </td><td>0.58571429                      </td><td>0.9554247                       </td><td>0.38571429                      </td><td>0.7669412                       </td></tr>\n",
       "</tbody>\n",
       "</table>\n"
      ],
      "text/latex": [
       "\\begin{tabular}{r|llllllllllllllllllllllllll}\n",
       " conca & recurrencia & enemean & enesd & febmean & febsd & marmean & marsd & abrmean & abrsd & ⋯ & agomean & agosd & sepmean & sepsd & octmean & octsd & novmean & novsd & dicmean & dicsd\\\\\n",
       "\\hline\n",
       "\t 2015 Aborto Central              &  87                              & 0.34482759                       & 0.7443990                        & 0.4827586                        & 0.7603865                        & 0.41379310                       & 0.7400774                        & 0.4597701                        & 1.0543884                        & ⋯                                & 0.3448276                        & 0.6255711                        & 0.2068966                        & 0.4855572                        & 0.36781609                       &  0.7940907                       & 0.29885057                       & 0.6308898                        & 0.20689655                       & 0.4350336                       \\\\\n",
       "\t 2015 Aborto Exterior             &  12                              & 0.00000000                       & 0.0000000                        & 0.1666667                        & 0.5773503                        & 0.50000000                       & 0.5222330                        & 0.2500000                        & 0.4522670                        & ⋯                                & 0.0000000                        & 0.0000000                        & 0.0000000                        & 0.0000000                        & 0.25000000                       &  0.4522670                       & 0.16666667                       & 0.3892495                        & 0.08333333                       & 0.2886751                       \\\\\n",
       "\t 2015 Aborto Rural                &  83                              & 0.07228916                       & 0.2605404                        & 0.1084337                        & 0.3128176                        & 0.08433735                       & 0.2795824                        & 0.1084337                        & 0.4420586                        & ⋯                                & 0.2409639                        & 0.5541498                        & 0.1566265                        & 0.4271839                        & 0.07228916                       &  0.3037623                       & 0.07228916                       & 0.2605404                        & 0.16867470                       & 0.5136972                       \\\\\n",
       "\t 2015 Abuso de confianza Central  & 206                              & 5.10194175                       & 9.5168296                        & 5.0339806                        & 9.0862432                        & 5.25728155                       & 9.3895022                        & 4.8203883                        & 8.8091843                        & ⋯                                & 5.2864078                        & 9.2425585                        & 5.7087379                        & 9.5500030                        & 5.82038835                       & 10.1386376                       & 5.31067961                       & 9.8590349                        & 5.08252427                       & 8.6801138                       \\\\\n",
       "\t 2015 Abuso de confianza Exterior &  70                              & 0.44285714                       & 0.7349596                        & 0.6285714                        & 1.1315172                        & 0.52857143                       & 1.0864305                        & 0.5428571                        & 0.9276074                        & ⋯                                & 0.6571429                        & 1.1149279                        & 0.5285714                        & 1.0730078                        & 0.68571429                       &  1.3571374                       & 0.58571429                       & 0.9554247                        & 0.38571429                       & 0.7669412                       \\\\\n",
       "\\end{tabular}\n"
      ],
      "text/markdown": [
       "\n",
       "conca | recurrencia | enemean | enesd | febmean | febsd | marmean | marsd | abrmean | abrsd | ⋯ | agomean | agosd | sepmean | sepsd | octmean | octsd | novmean | novsd | dicmean | dicsd | \n",
       "|---|---|---|---|---|\n",
       "| 2015 Aborto Central              |  87                              | 0.34482759                       | 0.7443990                        | 0.4827586                        | 0.7603865                        | 0.41379310                       | 0.7400774                        | 0.4597701                        | 1.0543884                        | ⋯                                | 0.3448276                        | 0.6255711                        | 0.2068966                        | 0.4855572                        | 0.36781609                       |  0.7940907                       | 0.29885057                       | 0.6308898                        | 0.20689655                       | 0.4350336                        | \n",
       "| 2015 Aborto Exterior             |  12                              | 0.00000000                       | 0.0000000                        | 0.1666667                        | 0.5773503                        | 0.50000000                       | 0.5222330                        | 0.2500000                        | 0.4522670                        | ⋯                                | 0.0000000                        | 0.0000000                        | 0.0000000                        | 0.0000000                        | 0.25000000                       |  0.4522670                       | 0.16666667                       | 0.3892495                        | 0.08333333                       | 0.2886751                        | \n",
       "| 2015 Aborto Rural                |  83                              | 0.07228916                       | 0.2605404                        | 0.1084337                        | 0.3128176                        | 0.08433735                       | 0.2795824                        | 0.1084337                        | 0.4420586                        | ⋯                                | 0.2409639                        | 0.5541498                        | 0.1566265                        | 0.4271839                        | 0.07228916                       |  0.3037623                       | 0.07228916                       | 0.2605404                        | 0.16867470                       | 0.5136972                        | \n",
       "| 2015 Abuso de confianza Central  | 206                              | 5.10194175                       | 9.5168296                        | 5.0339806                        | 9.0862432                        | 5.25728155                       | 9.3895022                        | 4.8203883                        | 8.8091843                        | ⋯                                | 5.2864078                        | 9.2425585                        | 5.7087379                        | 9.5500030                        | 5.82038835                       | 10.1386376                       | 5.31067961                       | 9.8590349                        | 5.08252427                       | 8.6801138                        | \n",
       "| 2015 Abuso de confianza Exterior |  70                              | 0.44285714                       | 0.7349596                        | 0.6285714                        | 1.1315172                        | 0.52857143                       | 1.0864305                        | 0.5428571                        | 0.9276074                        | ⋯                                | 0.6571429                        | 1.1149279                        | 0.5285714                        | 1.0730078                        | 0.68571429                       |  1.3571374                       | 0.58571429                       | 0.9554247                        | 0.38571429                       | 0.7669412                        | \n",
       "\n",
       "\n"
      ],
      "text/plain": [
       "  conca                            recurrencia enemean    enesd     febmean  \n",
       "1 2015 Aborto Central               87         0.34482759 0.7443990 0.4827586\n",
       "2 2015 Aborto Exterior              12         0.00000000 0.0000000 0.1666667\n",
       "3 2015 Aborto Rural                 83         0.07228916 0.2605404 0.1084337\n",
       "4 2015 Abuso de confianza Central  206         5.10194175 9.5168296 5.0339806\n",
       "5 2015 Abuso de confianza Exterior  70         0.44285714 0.7349596 0.6285714\n",
       "  febsd     marmean    marsd     abrmean   abrsd     ⋯ agomean   agosd    \n",
       "1 0.7603865 0.41379310 0.7400774 0.4597701 1.0543884 ⋯ 0.3448276 0.6255711\n",
       "2 0.5773503 0.50000000 0.5222330 0.2500000 0.4522670 ⋯ 0.0000000 0.0000000\n",
       "3 0.3128176 0.08433735 0.2795824 0.1084337 0.4420586 ⋯ 0.2409639 0.5541498\n",
       "4 9.0862432 5.25728155 9.3895022 4.8203883 8.8091843 ⋯ 5.2864078 9.2425585\n",
       "5 1.1315172 0.52857143 1.0864305 0.5428571 0.9276074 ⋯ 0.6571429 1.1149279\n",
       "  sepmean   sepsd     octmean    octsd      novmean    novsd     dicmean   \n",
       "1 0.2068966 0.4855572 0.36781609  0.7940907 0.29885057 0.6308898 0.20689655\n",
       "2 0.0000000 0.0000000 0.25000000  0.4522670 0.16666667 0.3892495 0.08333333\n",
       "3 0.1566265 0.4271839 0.07228916  0.3037623 0.07228916 0.2605404 0.16867470\n",
       "4 5.7087379 9.5500030 5.82038835 10.1386376 5.31067961 9.8590349 5.08252427\n",
       "5 0.5285714 1.0730078 0.68571429  1.3571374 0.58571429 0.9554247 0.38571429\n",
       "  dicsd    \n",
       "1 0.4350336\n",
       "2 0.2886751\n",
       "3 0.5136972\n",
       "4 8.6801138\n",
       "5 0.7669412"
      ]
     },
     "metadata": {},
     "output_type": "display_data"
    }
   ],
   "source": [
    "#CALCULA EL PROMEDIO\n",
    "tablemean<-aggregate(x[12:23], by=list(conca), FUN=mean)\n",
    "#head(tablemean,3)\n",
    "\n",
    "#CALCULA LA DESVIACIÓN ESTANDAR\n",
    "tablesd<-aggregate(x[12:23], by=list(conca), FUN=sd)\n",
    "#head(tablesd,3)\n",
    "\n",
    "#CALCULA numero de registros\n",
    "#ASEGURARSE DE QUE LOS REGISTROS SEAN IGUALES\n",
    "tablelength<-aggregate(x[12:23], by=list(conca), FUN=length)\n",
    "#head(tablelength,3)\n",
    "\n",
    "#UNE TABLAS MEAN Y SD\n",
    "join<-merge(x = tablemean, y = tablesd, by = \"Group.1\", all = TRUE)\n",
    "join<-merge(x = join, y = tablelength, by = \"Group.1\", all = TRUE)\n",
    "\n",
    "#ORGANIZA EL DataFrame JOIN\n",
    "join<-data.frame(join$Group.1,join$ene,join$ene.x,join$ene.y,join$feb.x,join$feb.y,join$mar.x,join$mar.y,join$abr.x,join$abr.y,join$may.x,join$may.y,join$jun.x,join$jun.y,join$jul.x,join$jul.y,join$ago.x,join$ago.y,join$sep.x,join$sep.y,join$oct.x,join$oct.y,join$nov.x,join$nov.y,join$dic.x,join$dic.y)\n",
    "colnames(join)<-c(\"conca\",\"recurrencia\",\"enemean\",\"enesd\",\"febmean\",\"febsd\",\"marmean\",\"marsd\",\"abrmean\",\"abrsd\",\"maymean\",\"maysd\",\"junmean\",\"junsd\",\"julmean\",\"julsd\",\"agomean\",\"agosd\",\"sepmean\",\"sepsd\",\"octmean\",\"octsd\",\"novmean\",\"novsd\",\"dicmean\",\"dicsd\")\n",
    "\n",
    "head(join,5)"
   ]
  },
  {
   "cell_type": "markdown",
   "metadata": {},
   "source": [
    "- Prepara la tabla para el loop"
   ]
  },
  {
   "cell_type": "code",
   "execution_count": 5,
   "metadata": {},
   "outputs": [
    {
     "data": {
      "text/html": [
       "<table>\n",
       "<thead><tr><th scope=col>id</th><th scope=col>conca</th><th scope=col>recurrencia</th><th scope=col>enemean</th><th scope=col>enesd</th><th scope=col>febmean</th><th scope=col>febsd</th><th scope=col>marmean</th><th scope=col>marsd</th><th scope=col>abrmean</th><th scope=col>⋯</th><th scope=col>agomean</th><th scope=col>agosd</th><th scope=col>sepmean</th><th scope=col>sepsd</th><th scope=col>octmean</th><th scope=col>octsd</th><th scope=col>novmean</th><th scope=col>novsd</th><th scope=col>dicmean</th><th scope=col>dicsd</th></tr></thead>\n",
       "<tbody>\n",
       "\t<tr><td>1                               </td><td>2015 Aborto Central             </td><td> 87                             </td><td>0.34482759                      </td><td>0.7443990                       </td><td>0.4827586                       </td><td>0.7603865                       </td><td>0.41379310                      </td><td>0.7400774                       </td><td>0.4597701                       </td><td>⋯                               </td><td>0.3448276                       </td><td>0.6255711                       </td><td>0.2068966                       </td><td>0.4855572                       </td><td>0.36781609                      </td><td> 0.7940907                      </td><td>0.29885057                      </td><td>0.6308898                       </td><td>0.20689655                      </td><td>0.4350336                       </td></tr>\n",
       "\t<tr><td>2                               </td><td>2015 Aborto Exterior            </td><td> 12                             </td><td>0.00000000                      </td><td>0.0000000                       </td><td>0.1666667                       </td><td>0.5773503                       </td><td>0.50000000                      </td><td>0.5222330                       </td><td>0.2500000                       </td><td>⋯                               </td><td>0.0000000                       </td><td>0.0000000                       </td><td>0.0000000                       </td><td>0.0000000                       </td><td>0.25000000                      </td><td> 0.4522670                      </td><td>0.16666667                      </td><td>0.3892495                       </td><td>0.08333333                      </td><td>0.2886751                       </td></tr>\n",
       "\t<tr><td>3                               </td><td>2015 Aborto Rural               </td><td> 83                             </td><td>0.07228916                      </td><td>0.2605404                       </td><td>0.1084337                       </td><td>0.3128176                       </td><td>0.08433735                      </td><td>0.2795824                       </td><td>0.1084337                       </td><td>⋯                               </td><td>0.2409639                       </td><td>0.5541498                       </td><td>0.1566265                       </td><td>0.4271839                       </td><td>0.07228916                      </td><td> 0.3037623                      </td><td>0.07228916                      </td><td>0.2605404                       </td><td>0.16867470                      </td><td>0.5136972                       </td></tr>\n",
       "\t<tr><td>4                               </td><td>2015 Abuso de confianza Central </td><td>206                             </td><td>5.10194175                      </td><td>9.5168296                       </td><td>5.0339806                       </td><td>9.0862432                       </td><td>5.25728155                      </td><td>9.3895022                       </td><td>4.8203883                       </td><td>⋯                               </td><td>5.2864078                       </td><td>9.2425585                       </td><td>5.7087379                       </td><td>9.5500030                       </td><td>5.82038835                      </td><td>10.1386376                      </td><td>5.31067961                      </td><td>9.8590349                       </td><td>5.08252427                      </td><td>8.6801138                       </td></tr>\n",
       "\t<tr><td>5                               </td><td>2015 Abuso de confianza Exterior</td><td> 70                             </td><td>0.44285714                      </td><td>0.7349596                       </td><td>0.6285714                       </td><td>1.1315172                       </td><td>0.52857143                      </td><td>1.0864305                       </td><td>0.5428571                       </td><td>⋯                               </td><td>0.6571429                       </td><td>1.1149279                       </td><td>0.5285714                       </td><td>1.0730078                       </td><td>0.68571429                      </td><td> 1.3571374                      </td><td>0.58571429                      </td><td>0.9554247                       </td><td>0.38571429                      </td><td>0.7669412                       </td></tr>\n",
       "</tbody>\n",
       "</table>\n"
      ],
      "text/latex": [
       "\\begin{tabular}{r|lllllllllllllllllllllllllll}\n",
       " id & conca & recurrencia & enemean & enesd & febmean & febsd & marmean & marsd & abrmean & ⋯ & agomean & agosd & sepmean & sepsd & octmean & octsd & novmean & novsd & dicmean & dicsd\\\\\n",
       "\\hline\n",
       "\t 1                                & 2015 Aborto Central              &  87                              & 0.34482759                       & 0.7443990                        & 0.4827586                        & 0.7603865                        & 0.41379310                       & 0.7400774                        & 0.4597701                        & ⋯                                & 0.3448276                        & 0.6255711                        & 0.2068966                        & 0.4855572                        & 0.36781609                       &  0.7940907                       & 0.29885057                       & 0.6308898                        & 0.20689655                       & 0.4350336                       \\\\\n",
       "\t 2                                & 2015 Aborto Exterior             &  12                              & 0.00000000                       & 0.0000000                        & 0.1666667                        & 0.5773503                        & 0.50000000                       & 0.5222330                        & 0.2500000                        & ⋯                                & 0.0000000                        & 0.0000000                        & 0.0000000                        & 0.0000000                        & 0.25000000                       &  0.4522670                       & 0.16666667                       & 0.3892495                        & 0.08333333                       & 0.2886751                       \\\\\n",
       "\t 3                                & 2015 Aborto Rural                &  83                              & 0.07228916                       & 0.2605404                        & 0.1084337                        & 0.3128176                        & 0.08433735                       & 0.2795824                        & 0.1084337                        & ⋯                                & 0.2409639                        & 0.5541498                        & 0.1566265                        & 0.4271839                        & 0.07228916                       &  0.3037623                       & 0.07228916                       & 0.2605404                        & 0.16867470                       & 0.5136972                       \\\\\n",
       "\t 4                                & 2015 Abuso de confianza Central  & 206                              & 5.10194175                       & 9.5168296                        & 5.0339806                        & 9.0862432                        & 5.25728155                       & 9.3895022                        & 4.8203883                        & ⋯                                & 5.2864078                        & 9.2425585                        & 5.7087379                        & 9.5500030                        & 5.82038835                       & 10.1386376                       & 5.31067961                       & 9.8590349                        & 5.08252427                       & 8.6801138                       \\\\\n",
       "\t 5                                & 2015 Abuso de confianza Exterior &  70                              & 0.44285714                       & 0.7349596                        & 0.6285714                        & 1.1315172                        & 0.52857143                       & 1.0864305                        & 0.5428571                        & ⋯                                & 0.6571429                        & 1.1149279                        & 0.5285714                        & 1.0730078                        & 0.68571429                       &  1.3571374                       & 0.58571429                       & 0.9554247                        & 0.38571429                       & 0.7669412                       \\\\\n",
       "\\end{tabular}\n"
      ],
      "text/markdown": [
       "\n",
       "id | conca | recurrencia | enemean | enesd | febmean | febsd | marmean | marsd | abrmean | ⋯ | agomean | agosd | sepmean | sepsd | octmean | octsd | novmean | novsd | dicmean | dicsd | \n",
       "|---|---|---|---|---|\n",
       "| 1                                | 2015 Aborto Central              |  87                              | 0.34482759                       | 0.7443990                        | 0.4827586                        | 0.7603865                        | 0.41379310                       | 0.7400774                        | 0.4597701                        | ⋯                                | 0.3448276                        | 0.6255711                        | 0.2068966                        | 0.4855572                        | 0.36781609                       |  0.7940907                       | 0.29885057                       | 0.6308898                        | 0.20689655                       | 0.4350336                        | \n",
       "| 2                                | 2015 Aborto Exterior             |  12                              | 0.00000000                       | 0.0000000                        | 0.1666667                        | 0.5773503                        | 0.50000000                       | 0.5222330                        | 0.2500000                        | ⋯                                | 0.0000000                        | 0.0000000                        | 0.0000000                        | 0.0000000                        | 0.25000000                       |  0.4522670                       | 0.16666667                       | 0.3892495                        | 0.08333333                       | 0.2886751                        | \n",
       "| 3                                | 2015 Aborto Rural                |  83                              | 0.07228916                       | 0.2605404                        | 0.1084337                        | 0.3128176                        | 0.08433735                       | 0.2795824                        | 0.1084337                        | ⋯                                | 0.2409639                        | 0.5541498                        | 0.1566265                        | 0.4271839                        | 0.07228916                       |  0.3037623                       | 0.07228916                       | 0.2605404                        | 0.16867470                       | 0.5136972                        | \n",
       "| 4                                | 2015 Abuso de confianza Central  | 206                              | 5.10194175                       | 9.5168296                        | 5.0339806                        | 9.0862432                        | 5.25728155                       | 9.3895022                        | 4.8203883                        | ⋯                                | 5.2864078                        | 9.2425585                        | 5.7087379                        | 9.5500030                        | 5.82038835                       | 10.1386376                       | 5.31067961                       | 9.8590349                        | 5.08252427                       | 8.6801138                        | \n",
       "| 5                                | 2015 Abuso de confianza Exterior |  70                              | 0.44285714                       | 0.7349596                        | 0.6285714                        | 1.1315172                        | 0.52857143                       | 1.0864305                        | 0.5428571                        | ⋯                                | 0.6571429                        | 1.1149279                        | 0.5285714                        | 1.0730078                        | 0.68571429                       |  1.3571374                       | 0.58571429                       | 0.9554247                        | 0.38571429                       | 0.7669412                        | \n",
       "\n",
       "\n"
      ],
      "text/plain": [
       "  id conca                            recurrencia enemean    enesd    \n",
       "1 1  2015 Aborto Central               87         0.34482759 0.7443990\n",
       "2 2  2015 Aborto Exterior              12         0.00000000 0.0000000\n",
       "3 3  2015 Aborto Rural                 83         0.07228916 0.2605404\n",
       "4 4  2015 Abuso de confianza Central  206         5.10194175 9.5168296\n",
       "5 5  2015 Abuso de confianza Exterior  70         0.44285714 0.7349596\n",
       "  febmean   febsd     marmean    marsd     abrmean   ⋯ agomean   agosd    \n",
       "1 0.4827586 0.7603865 0.41379310 0.7400774 0.4597701 ⋯ 0.3448276 0.6255711\n",
       "2 0.1666667 0.5773503 0.50000000 0.5222330 0.2500000 ⋯ 0.0000000 0.0000000\n",
       "3 0.1084337 0.3128176 0.08433735 0.2795824 0.1084337 ⋯ 0.2409639 0.5541498\n",
       "4 5.0339806 9.0862432 5.25728155 9.3895022 4.8203883 ⋯ 5.2864078 9.2425585\n",
       "5 0.6285714 1.1315172 0.52857143 1.0864305 0.5428571 ⋯ 0.6571429 1.1149279\n",
       "  sepmean   sepsd     octmean    octsd      novmean    novsd     dicmean   \n",
       "1 0.2068966 0.4855572 0.36781609  0.7940907 0.29885057 0.6308898 0.20689655\n",
       "2 0.0000000 0.0000000 0.25000000  0.4522670 0.16666667 0.3892495 0.08333333\n",
       "3 0.1566265 0.4271839 0.07228916  0.3037623 0.07228916 0.2605404 0.16867470\n",
       "4 5.7087379 9.5500030 5.82038835 10.1386376 5.31067961 9.8590349 5.08252427\n",
       "5 0.5285714 1.0730078 0.68571429  1.3571374 0.58571429 0.9554247 0.38571429\n",
       "  dicsd    \n",
       "1 0.4350336\n",
       "2 0.2886751\n",
       "3 0.5136972\n",
       "4 8.6801138\n",
       "5 0.7669412"
      ]
     },
     "metadata": {},
     "output_type": "display_data"
    }
   ],
   "source": [
    "#GENERA Y UNE ID\n",
    "id<-c(1:nrow(join))\n",
    "join<-data.frame(id,join)\n",
    "\n",
    "#VALORES DEL FOR\n",
    "sq<- c(26,24,22,20,18,16,14,12,10,8,6,4)\n",
    "\n",
    "#GENERA EL DATAFRAME Y MATRIZ INICIAL CON EL ID\n",
    "concajoin<-data.frame(join$id,join$recurrencia)\n",
    "limitesjoin<-data.matrix(concajoin)\n",
    "\n",
    "head(join,5)"
   ]
  },
  {
   "cell_type": "markdown",
   "metadata": {},
   "source": [
    "- loop"
   ]
  },
  {
   "cell_type": "code",
   "execution_count": 6,
   "metadata": {},
   "outputs": [
    {
     "name": "stdout",
     "output_type": "stream",
     "text": [
      "[1] \"~~~~~~~~~~~~~~~~~~~~~~~~~~~~~~~~~READY~~~~~~~~~~~~~~~~~~~~~~~~~~~~~~~~~~~~~~~~~~~~~~~~~~\"\n",
      "[1] \"~~~~~~~~~~~~~~~~~~~~~~~~~~~~~~~~~READY~~~~~~~~~~~~~~~~~~~~~~~~~~~~~~~~~~~~~~~~~~~~~~~~~~\"\n",
      "[1] \"~~~~~~~~~~~~~~~~~~~~~~~~~~~~~~~~~READY~~~~~~~~~~~~~~~~~~~~~~~~~~~~~~~~~~~~~~~~~~~~~~~~~~\"\n",
      "[1] \"~~~~~~~~~~~~~~~~~~~~~~~~~~~~~~~~~READY~~~~~~~~~~~~~~~~~~~~~~~~~~~~~~~~~~~~~~~~~~~~~~~~~~\"\n",
      "[1] \"~~~~~~~~~~~~~~~~~~~~~~~~~~~~~~~~~READY~~~~~~~~~~~~~~~~~~~~~~~~~~~~~~~~~~~~~~~~~~~~~~~~~~\"\n",
      "[1] \"~~~~~~~~~~~~~~~~~~~~~~~~~~~~~~~~~READY~~~~~~~~~~~~~~~~~~~~~~~~~~~~~~~~~~~~~~~~~~~~~~~~~~\"\n",
      "[1] \"~~~~~~~~~~~~~~~~~~~~~~~~~~~~~~~~~READY~~~~~~~~~~~~~~~~~~~~~~~~~~~~~~~~~~~~~~~~~~~~~~~~~~\"\n",
      "[1] \"~~~~~~~~~~~~~~~~~~~~~~~~~~~~~~~~~READY~~~~~~~~~~~~~~~~~~~~~~~~~~~~~~~~~~~~~~~~~~~~~~~~~~\"\n",
      "[1] \"~~~~~~~~~~~~~~~~~~~~~~~~~~~~~~~~~READY~~~~~~~~~~~~~~~~~~~~~~~~~~~~~~~~~~~~~~~~~~~~~~~~~~\"\n",
      "[1] \"~~~~~~~~~~~~~~~~~~~~~~~~~~~~~~~~~READY~~~~~~~~~~~~~~~~~~~~~~~~~~~~~~~~~~~~~~~~~~~~~~~~~~\"\n",
      "[1] \"~~~~~~~~~~~~~~~~~~~~~~~~~~~~~~~~~READY~~~~~~~~~~~~~~~~~~~~~~~~~~~~~~~~~~~~~~~~~~~~~~~~~~\"\n",
      "[1] \"~~~~~~~~~~~~~~~~~~~~~~~~~~~~~~~~~READY~~~~~~~~~~~~~~~~~~~~~~~~~~~~~~~~~~~~~~~~~~~~~~~~~~\"\n"
     ]
    },
    {
     "data": {
      "text/html": [
       "<table>\n",
       "<thead><tr><th scope=col>enemean</th><th scope=col>limsup</th><th scope=col>liminf</th><th scope=col>febmean</th><th scope=col>limsup</th><th scope=col>liminf</th><th scope=col>marmean</th><th scope=col>limsup</th><th scope=col>liminf</th><th scope=col>abrmean</th><th scope=col>⋯</th><th scope=col>limsup</th><th scope=col>liminf</th><th scope=col>novmean</th><th scope=col>limsup</th><th scope=col>liminf</th><th scope=col>dicmean</th><th scope=col>limsup</th><th scope=col>liminf</th><th scope=col>join.id</th><th scope=col>join.recurrencia</th></tr></thead>\n",
       "<tbody>\n",
       "\t<tr><td>0.34482759 </td><td> 2.5780247 </td><td> -1.8883695</td><td>0.4827586  </td><td> 2.763918  </td><td> -1.798401 </td><td>0.41379310 </td><td> 2.6340252 </td><td> -1.8064390</td><td>0.4597701  </td><td>⋯          </td><td> 2.750088  </td><td> -2.0144560</td><td>0.29885057 </td><td> 2.1915199 </td><td> -1.5938188</td><td>0.20689655 </td><td> 1.5119973 </td><td> -1.0982042</td><td>1          </td><td> 87        </td></tr>\n",
       "\t<tr><td>0.00000000 </td><td> 0.0000000 </td><td>  0.0000000</td><td>0.1666667  </td><td> 1.898717  </td><td> -1.565384 </td><td>0.50000000 </td><td> 2.0666989 </td><td> -1.0666989</td><td>0.2500000  </td><td>⋯          </td><td> 1.606801  </td><td> -1.1068011</td><td>0.16666667 </td><td> 1.3344151 </td><td> -1.0010817</td><td>0.08333333 </td><td> 0.9493587 </td><td> -0.7826921</td><td>2          </td><td> 12        </td></tr>\n",
       "\t<tr><td>0.07228916 </td><td> 0.8539102 </td><td> -0.7093319</td><td>0.1084337  </td><td> 1.046886  </td><td> -0.830019 </td><td>0.08433735 </td><td> 0.9230846 </td><td> -0.7544099</td><td>0.1084337  </td><td>⋯          </td><td> 0.983576  </td><td> -0.8389977</td><td>0.07228916 </td><td> 0.8539102 </td><td> -0.7093319</td><td>0.16867470 </td><td> 1.7097663 </td><td> -1.3724169</td><td>3          </td><td> 83        </td></tr>\n",
       "\t<tr><td>5.10194175 </td><td>33.6524304 </td><td>-23.4485470</td><td>5.0339806  </td><td>32.292710  </td><td>-22.224749 </td><td>5.25728155 </td><td>33.4257882 </td><td>-22.9112251</td><td>4.8203883  </td><td>⋯          </td><td>36.236301  </td><td>-24.5955245</td><td>5.31067961 </td><td>34.8877842 </td><td>-24.2664250</td><td>5.08252427 </td><td>31.1228658 </td><td>-20.9578172</td><td>4          </td><td>206        </td></tr>\n",
       "\t<tr><td>0.44285714 </td><td> 2.6477360 </td><td> -1.7620217</td><td>0.6285714  </td><td> 4.023123  </td><td> -2.765980 </td><td>0.52857143 </td><td> 3.7878630 </td><td> -2.7307201</td><td>0.5428571  </td><td>⋯          </td><td> 4.757127  </td><td> -3.3856979</td><td>0.58571429 </td><td> 3.4519885 </td><td> -2.2805599</td><td>0.38571429 </td><td> 2.6865378 </td><td> -1.9151092</td><td>5          </td><td> 70        </td></tr>\n",
       "</tbody>\n",
       "</table>\n"
      ],
      "text/latex": [
       "\\begin{tabular}{llllllllllllllllllllllllllllllllllllll}\n",
       " enemean & limsup & liminf & febmean & limsup & liminf & marmean & limsup & liminf & abrmean & ⋯ & limsup & liminf & novmean & limsup & liminf & dicmean & limsup & liminf & join.id & join.recurrencia\\\\\n",
       "\\hline\n",
       "\t 0.34482759  &  2.5780247  &  -1.8883695 & 0.4827586   &  2.763918   &  -1.798401  & 0.41379310  &  2.6340252  &  -1.8064390 & 0.4597701   & ⋯           &  2.750088   &  -2.0144560 & 0.29885057  &  2.1915199  &  -1.5938188 & 0.20689655  &  1.5119973  &  -1.0982042 & 1           &  87        \\\\\n",
       "\t 0.00000000  &  0.0000000  &   0.0000000 & 0.1666667   &  1.898717   &  -1.565384  & 0.50000000  &  2.0666989  &  -1.0666989 & 0.2500000   & ⋯           &  1.606801   &  -1.1068011 & 0.16666667  &  1.3344151  &  -1.0010817 & 0.08333333  &  0.9493587  &  -0.7826921 & 2           &  12        \\\\\n",
       "\t 0.07228916  &  0.8539102  &  -0.7093319 & 0.1084337   &  1.046886   &  -0.830019  & 0.08433735  &  0.9230846  &  -0.7544099 & 0.1084337   & ⋯           &  0.983576   &  -0.8389977 & 0.07228916  &  0.8539102  &  -0.7093319 & 0.16867470  &  1.7097663  &  -1.3724169 & 3           &  83        \\\\\n",
       "\t 5.10194175  & 33.6524304  & -23.4485470 & 5.0339806   & 32.292710   & -22.224749  & 5.25728155  & 33.4257882  & -22.9112251 & 4.8203883   & ⋯           & 36.236301   & -24.5955245 & 5.31067961  & 34.8877842  & -24.2664250 & 5.08252427  & 31.1228658  & -20.9578172 & 4           & 206        \\\\\n",
       "\t 0.44285714  &  2.6477360  &  -1.7620217 & 0.6285714   &  4.023123   &  -2.765980  & 0.52857143  &  3.7878630  &  -2.7307201 & 0.5428571   & ⋯           &  4.757127   &  -3.3856979 & 0.58571429  &  3.4519885  &  -2.2805599 & 0.38571429  &  2.6865378  &  -1.9151092 & 5           &  70        \\\\\n",
       "\\end{tabular}\n"
      ],
      "text/markdown": [
       "\n",
       "enemean | limsup | liminf | febmean | limsup | liminf | marmean | limsup | liminf | abrmean | ⋯ | limsup | liminf | novmean | limsup | liminf | dicmean | limsup | liminf | join.id | join.recurrencia | \n",
       "|---|---|---|---|---|\n",
       "| 0.34482759  |  2.5780247  |  -1.8883695 | 0.4827586   |  2.763918   |  -1.798401  | 0.41379310  |  2.6340252  |  -1.8064390 | 0.4597701   | ⋯           |  2.750088   |  -2.0144560 | 0.29885057  |  2.1915199  |  -1.5938188 | 0.20689655  |  1.5119973  |  -1.0982042 | 1           |  87         | \n",
       "| 0.00000000  |  0.0000000  |   0.0000000 | 0.1666667   |  1.898717   |  -1.565384  | 0.50000000  |  2.0666989  |  -1.0666989 | 0.2500000   | ⋯           |  1.606801   |  -1.1068011 | 0.16666667  |  1.3344151  |  -1.0010817 | 0.08333333  |  0.9493587  |  -0.7826921 | 2           |  12         | \n",
       "| 0.07228916  |  0.8539102  |  -0.7093319 | 0.1084337   |  1.046886   |  -0.830019  | 0.08433735  |  0.9230846  |  -0.7544099 | 0.1084337   | ⋯           |  0.983576   |  -0.8389977 | 0.07228916  |  0.8539102  |  -0.7093319 | 0.16867470  |  1.7097663  |  -1.3724169 | 3           |  83         | \n",
       "| 5.10194175  | 33.6524304  | -23.4485470 | 5.0339806   | 32.292710   | -22.224749  | 5.25728155  | 33.4257882  | -22.9112251 | 4.8203883   | ⋯           | 36.236301   | -24.5955245 | 5.31067961  | 34.8877842  | -24.2664250 | 5.08252427  | 31.1228658  | -20.9578172 | 4           | 206         | \n",
       "| 0.44285714  |  2.6477360  |  -1.7620217 | 0.6285714   |  4.023123   |  -2.765980  | 0.52857143  |  3.7878630  |  -2.7307201 | 0.5428571   | ⋯           |  4.757127   |  -3.3856979 | 0.58571429  |  3.4519885  |  -2.2805599 | 0.38571429  |  2.6865378  |  -1.9151092 | 5           |  70         | \n",
       "\n",
       "\n"
      ],
      "text/plain": [
       "     enemean    limsup     liminf      febmean   limsup    liminf    \n",
       "[1,] 0.34482759  2.5780247  -1.8883695 0.4827586  2.763918  -1.798401\n",
       "[2,] 0.00000000  0.0000000   0.0000000 0.1666667  1.898717  -1.565384\n",
       "[3,] 0.07228916  0.8539102  -0.7093319 0.1084337  1.046886  -0.830019\n",
       "[4,] 5.10194175 33.6524304 -23.4485470 5.0339806 32.292710 -22.224749\n",
       "[5,] 0.44285714  2.6477360  -1.7620217 0.6285714  4.023123  -2.765980\n",
       "     marmean    limsup     liminf      abrmean   ⋯ limsup    liminf     \n",
       "[1,] 0.41379310  2.6340252  -1.8064390 0.4597701 ⋯  2.750088  -2.0144560\n",
       "[2,] 0.50000000  2.0666989  -1.0666989 0.2500000 ⋯  1.606801  -1.1068011\n",
       "[3,] 0.08433735  0.9230846  -0.7544099 0.1084337 ⋯  0.983576  -0.8389977\n",
       "[4,] 5.25728155 33.4257882 -22.9112251 4.8203883 ⋯ 36.236301 -24.5955245\n",
       "[5,] 0.52857143  3.7878630  -2.7307201 0.5428571 ⋯  4.757127  -3.3856979\n",
       "     novmean    limsup     liminf      dicmean    limsup     liminf     \n",
       "[1,] 0.29885057  2.1915199  -1.5938188 0.20689655  1.5119973  -1.0982042\n",
       "[2,] 0.16666667  1.3344151  -1.0010817 0.08333333  0.9493587  -0.7826921\n",
       "[3,] 0.07228916  0.8539102  -0.7093319 0.16867470  1.7097663  -1.3724169\n",
       "[4,] 5.31067961 34.8877842 -24.2664250 5.08252427 31.1228658 -20.9578172\n",
       "[5,] 0.58571429  3.4519885  -2.2805599 0.38571429  2.6865378  -1.9151092\n",
       "     join.id join.recurrencia\n",
       "[1,] 1        87             \n",
       "[2,] 2        12             \n",
       "[3,] 3        83             \n",
       "[4,] 4       206             \n",
       "[5,] 5        70             "
      ]
     },
     "metadata": {},
     "output_type": "display_data"
    }
   ],
   "source": [
    "for (i in sq)\n",
    "{\n",
    "  promedio<-data.frame(join[i])\n",
    "  sd<-data.frame(join[i+1])\n",
    "  \n",
    "  limsup<-promedio + (3*sd)\n",
    "  colnames(limsup)<-\"limsup\"\n",
    "  liminf<-promedio - (3*sd)\n",
    "  colnames(liminf)<-\"liminf\"\n",
    "  \n",
    "  #promedio<-head(promedio,20)#EJEMPLO DE 20\n",
    "  #limsup<-head(limsup,20)#EJEMPLO DE 20\n",
    "  #liminf<-head(liminf,20)#EJEMPLO DE 20\n",
    "  \n",
    "  limites<-data.frame(promedio,limsup,liminf)\n",
    "  limitesmatrix<-data.matrix(limites)\n",
    "  limitesjoin<-cbind(limitesmatrix,limitesjoin)\n",
    "  print(\"~~~~~~~~~~~~~~~~~~~~~~~~~~~~~~~~~READY~~~~~~~~~~~~~~~~~~~~~~~~~~~~~~~~~~~~~~~~~~~~~~~~~~\")\n",
    "}\n",
    "\n",
    "head(limitesjoin,5)"
   ]
  },
  {
   "cell_type": "markdown",
   "metadata": {},
   "source": [
    "5. Une a base inicial y prepara el output"
   ]
  },
  {
   "cell_type": "code",
   "execution_count": 9,
   "metadata": {},
   "outputs": [
    {
     "data": {
      "text/html": [
       "<table>\n",
       "<thead><tr><th scope=col>year</th><th scope=col>clv</th><th scope=col>location_code</th><th scope=col>municipio</th><th scope=col>good_legal</th><th scope=col>typess</th><th scope=col>subtype</th><th scope=col>modality</th><th scope=col>cfinal</th><th scope=col>tipoz</th><th scope=col>⋯</th><th scope=col>octmean</th><th scope=col>octlimsup</th><th scope=col>octliminf</th><th scope=col>novmean</th><th scope=col>novlimsup</th><th scope=col>novliminf</th><th scope=col>dicmean</th><th scope=col>diclimsup</th><th scope=col>dicliminf</th><th scope=col>recurrencia</th></tr></thead>\n",
       "<tbody>\n",
       "\t<tr><td>2015                            </td><td> 9                              </td><td> 9017                           </td><td>Venustiano Carranza             </td><td>La vida y la integridad corporal</td><td>Aborto                          </td><td>Aborto                          </td><td>Aborto                          </td><td>VICaboOOOOOO                    </td><td>Central                         </td><td>⋯                               </td><td>0.3678161                       </td><td>2.750088                        </td><td>-2.014456                       </td><td>0.2988506                       </td><td>2.19152                         </td><td>-1.593819                       </td><td>0.2068966                       </td><td>1.511997                        </td><td>-1.098204                       </td><td>87                              </td></tr>\n",
       "\t<tr><td>2015                            </td><td>13                              </td><td>13077                           </td><td>Tulancingo de Bravo             </td><td>La vida y la integridad corporal</td><td>Aborto                          </td><td>Aborto                          </td><td>Aborto                          </td><td>VICaboOOOOOO                    </td><td>Central                         </td><td>⋯                               </td><td>0.3678161                       </td><td>2.750088                        </td><td>-2.014456                       </td><td>0.2988506                       </td><td>2.19152                         </td><td>-1.593819                       </td><td>0.2068966                       </td><td>1.511997                        </td><td>-1.098204                       </td><td>87                              </td></tr>\n",
       "\t<tr><td>2015                            </td><td> 9                              </td><td> 9013                           </td><td>Xochimilco                      </td><td>La vida y la integridad corporal</td><td>Aborto                          </td><td>Aborto                          </td><td>Aborto                          </td><td>VICaboOOOOOO                    </td><td>Central                         </td><td>⋯                               </td><td>0.3678161                       </td><td>2.750088                        </td><td>-2.014456                       </td><td>0.2988506                       </td><td>2.19152                         </td><td>-1.593819                       </td><td>0.2068966                       </td><td>1.511997                        </td><td>-1.098204                       </td><td>87                              </td></tr>\n",
       "\t<tr><td>2015                            </td><td>14                              </td><td>14120                           </td><td>Zapopan                         </td><td>La vida y la integridad corporal</td><td>Aborto                          </td><td>Aborto                          </td><td>Aborto                          </td><td>VICaboOOOOOO                    </td><td>Central                         </td><td>⋯                               </td><td>0.3678161                       </td><td>2.750088                        </td><td>-2.014456                       </td><td>0.2988506                       </td><td>2.19152                         </td><td>-1.593819                       </td><td>0.2068966                       </td><td>1.511997                        </td><td>-1.098204                       </td><td>87                              </td></tr>\n",
       "\t<tr><td>2015                            </td><td>21                              </td><td>21114                           </td><td>Puebla                          </td><td>La vida y la integridad corporal</td><td>Aborto                          </td><td>Aborto                          </td><td>Aborto                          </td><td>VICaboOOOOOO                    </td><td>Central                         </td><td>⋯                               </td><td>0.3678161                       </td><td>2.750088                        </td><td>-2.014456                       </td><td>0.2988506                       </td><td>2.19152                         </td><td>-1.593819                       </td><td>0.2068966                       </td><td>1.511997                        </td><td>-1.098204                       </td><td>87                              </td></tr>\n",
       "</tbody>\n",
       "</table>\n"
      ],
      "text/latex": [
       "\\begin{tabular}{r|llllllllllllllllllllllllllllllllllllllllllllllllllllllllllll}\n",
       " year & clv & location\\_code & municipio & good\\_legal & typess & subtype & modality & cfinal & tipoz & ⋯ & octmean & octlimsup & octliminf & novmean & novlimsup & novliminf & dicmean & diclimsup & dicliminf & recurrencia\\\\\n",
       "\\hline\n",
       "\t 2015                             &  9                               &  9017                            & Venustiano Carranza              & La vida y la integridad corporal & Aborto                           & Aborto                           & Aborto                           & VICaboOOOOOO                     & Central                          & ⋯                                & 0.3678161                        & 2.750088                         & -2.014456                        & 0.2988506                        & 2.19152                          & -1.593819                        & 0.2068966                        & 1.511997                         & -1.098204                        & 87                              \\\\\n",
       "\t 2015                             & 13                               & 13077                            & Tulancingo de Bravo              & La vida y la integridad corporal & Aborto                           & Aborto                           & Aborto                           & VICaboOOOOOO                     & Central                          & ⋯                                & 0.3678161                        & 2.750088                         & -2.014456                        & 0.2988506                        & 2.19152                          & -1.593819                        & 0.2068966                        & 1.511997                         & -1.098204                        & 87                              \\\\\n",
       "\t 2015                             &  9                               &  9013                            & Xochimilco                       & La vida y la integridad corporal & Aborto                           & Aborto                           & Aborto                           & VICaboOOOOOO                     & Central                          & ⋯                                & 0.3678161                        & 2.750088                         & -2.014456                        & 0.2988506                        & 2.19152                          & -1.593819                        & 0.2068966                        & 1.511997                         & -1.098204                        & 87                              \\\\\n",
       "\t 2015                             & 14                               & 14120                            & Zapopan                          & La vida y la integridad corporal & Aborto                           & Aborto                           & Aborto                           & VICaboOOOOOO                     & Central                          & ⋯                                & 0.3678161                        & 2.750088                         & -2.014456                        & 0.2988506                        & 2.19152                          & -1.593819                        & 0.2068966                        & 1.511997                         & -1.098204                        & 87                              \\\\\n",
       "\t 2015                             & 21                               & 21114                            & Puebla                           & La vida y la integridad corporal & Aborto                           & Aborto                           & Aborto                           & VICaboOOOOOO                     & Central                          & ⋯                                & 0.3678161                        & 2.750088                         & -2.014456                        & 0.2988506                        & 2.19152                          & -1.593819                        & 0.2068966                        & 1.511997                         & -1.098204                        & 87                              \\\\\n",
       "\\end{tabular}\n"
      ],
      "text/markdown": [
       "\n",
       "year | clv | location_code | municipio | good_legal | typess | subtype | modality | cfinal | tipoz | ⋯ | octmean | octlimsup | octliminf | novmean | novlimsup | novliminf | dicmean | diclimsup | dicliminf | recurrencia | \n",
       "|---|---|---|---|---|\n",
       "| 2015                             |  9                               |  9017                            | Venustiano Carranza              | La vida y la integridad corporal | Aborto                           | Aborto                           | Aborto                           | VICaboOOOOOO                     | Central                          | ⋯                                | 0.3678161                        | 2.750088                         | -2.014456                        | 0.2988506                        | 2.19152                          | -1.593819                        | 0.2068966                        | 1.511997                         | -1.098204                        | 87                               | \n",
       "| 2015                             | 13                               | 13077                            | Tulancingo de Bravo              | La vida y la integridad corporal | Aborto                           | Aborto                           | Aborto                           | VICaboOOOOOO                     | Central                          | ⋯                                | 0.3678161                        | 2.750088                         | -2.014456                        | 0.2988506                        | 2.19152                          | -1.593819                        | 0.2068966                        | 1.511997                         | -1.098204                        | 87                               | \n",
       "| 2015                             |  9                               |  9013                            | Xochimilco                       | La vida y la integridad corporal | Aborto                           | Aborto                           | Aborto                           | VICaboOOOOOO                     | Central                          | ⋯                                | 0.3678161                        | 2.750088                         | -2.014456                        | 0.2988506                        | 2.19152                          | -1.593819                        | 0.2068966                        | 1.511997                         | -1.098204                        | 87                               | \n",
       "| 2015                             | 14                               | 14120                            | Zapopan                          | La vida y la integridad corporal | Aborto                           | Aborto                           | Aborto                           | VICaboOOOOOO                     | Central                          | ⋯                                | 0.3678161                        | 2.750088                         | -2.014456                        | 0.2988506                        | 2.19152                          | -1.593819                        | 0.2068966                        | 1.511997                         | -1.098204                        | 87                               | \n",
       "| 2015                             | 21                               | 21114                            | Puebla                           | La vida y la integridad corporal | Aborto                           | Aborto                           | Aborto                           | VICaboOOOOOO                     | Central                          | ⋯                                | 0.3678161                        | 2.750088                         | -2.014456                        | 0.2988506                        | 2.19152                          | -1.593819                        | 0.2068966                        | 1.511997                         | -1.098204                        | 87                               | \n",
       "\n",
       "\n"
      ],
      "text/plain": [
       "  year clv location_code municipio           good_legal                      \n",
       "1 2015  9   9017         Venustiano Carranza La vida y la integridad corporal\n",
       "2 2015 13  13077         Tulancingo de Bravo La vida y la integridad corporal\n",
       "3 2015  9   9013         Xochimilco          La vida y la integridad corporal\n",
       "4 2015 14  14120         Zapopan             La vida y la integridad corporal\n",
       "5 2015 21  21114         Puebla              La vida y la integridad corporal\n",
       "  typess subtype modality cfinal       tipoz   ⋯ octmean   octlimsup octliminf\n",
       "1 Aborto Aborto  Aborto   VICaboOOOOOO Central ⋯ 0.3678161 2.750088  -2.014456\n",
       "2 Aborto Aborto  Aborto   VICaboOOOOOO Central ⋯ 0.3678161 2.750088  -2.014456\n",
       "3 Aborto Aborto  Aborto   VICaboOOOOOO Central ⋯ 0.3678161 2.750088  -2.014456\n",
       "4 Aborto Aborto  Aborto   VICaboOOOOOO Central ⋯ 0.3678161 2.750088  -2.014456\n",
       "5 Aborto Aborto  Aborto   VICaboOOOOOO Central ⋯ 0.3678161 2.750088  -2.014456\n",
       "  novmean   novlimsup novliminf dicmean   diclimsup dicliminf recurrencia\n",
       "1 0.2988506 2.19152   -1.593819 0.2068966 1.511997  -1.098204 87         \n",
       "2 0.2988506 2.19152   -1.593819 0.2068966 1.511997  -1.098204 87         \n",
       "3 0.2988506 2.19152   -1.593819 0.2068966 1.511997  -1.098204 87         \n",
       "4 0.2988506 2.19152   -1.593819 0.2068966 1.511997  -1.098204 87         \n",
       "5 0.2988506 2.19152   -1.593819 0.2068966 1.511997  -1.098204 87         "
      ]
     },
     "metadata": {},
     "output_type": "display_data"
    }
   ],
   "source": [
    "#union de datos de limites con la base de todos los registros\n",
    "bdura<-as.data.frame(limitesjoin)\n",
    "#names(bdura)\n",
    "colnames(bdura)<-c(\"enemean\",\"enelimsup\",\"eneliminf\",\"febmean\",\"feblimsup\",\"febliminf\",\"marmean\",\"marlimsup\",\"marliminf\",\"abrmean\",\"abrlimsup\",\"abrliminf\",\"maymean\",\"maylimsup\",\"mayliminf\",\"junmean\",\"junlimsup\",\"junliminf\",\"julmean\",\"jullimsup\",\"julliminf\",\"agomean\",\"agolimsup\",\"agoliminf\",\"sepmean\",\"seplimsup\",\"sepliminf\",\"octmean\",\"octlimsup\",\"octliminf\",\"novmean\",\"novlimsup\",\"novliminf\",\"dicmean\",\"diclimsup\",\"dicliminf\",\"id\",\"recurrencia\")\n",
    "join2<-data.frame(join$id,join$conca)\n",
    "colnames(join2)<-c(\"id\",\"conca\")\n",
    "jrs<-merge(x =join2, y = bdura, by = \"id\", all = TRUE)\n",
    "jrs<-merge(x =x, y = jrs, by = \"conca\", all = TRUE)\n",
    "\n",
    "jrs$conca<-NULL\n",
    "\n",
    "#Reemplaza valores nulos \"NA\"\n",
    "jrs[is.na(jrs)] <- 9999999\n",
    "\n",
    "head(jrs,5)"
   ]
  },
  {
   "cell_type": "markdown",
   "metadata": {},
   "source": [
    "6. __Output__"
   ]
  },
  {
   "cell_type": "code",
   "execution_count": 10,
   "metadata": {},
   "outputs": [],
   "source": [
    "write.csv(jrs, file = \"/home/rosa/Documentos/Proyecto_Seguridad/DELITOS HASTA JUNIO2018/EjercicioSeptiembre/jrs_final9k.csv\", row.names = TRUE)"
   ]
  },
  {
   "cell_type": "code",
   "execution_count": null,
   "metadata": {},
   "outputs": [],
   "source": []
  }
 ],
 "metadata": {
  "kernelspec": {
   "display_name": "R",
   "language": "R",
   "name": "ir"
  },
  "language_info": {
   "codemirror_mode": "r",
   "file_extension": ".r",
   "mimetype": "text/x-r-source",
   "name": "R",
   "pygments_lexer": "r",
   "version": "3.4.3"
  }
 },
 "nbformat": 4,
 "nbformat_minor": 2
}
